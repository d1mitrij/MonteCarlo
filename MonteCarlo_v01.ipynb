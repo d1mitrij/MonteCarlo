{
 "cells": [
  {
   "cell_type": "markdown",
   "id": "e8476fd3",
   "metadata": {},
   "source": [
    "# Monte Carlo Simulation\n",
    "\n",
    "A Monte Carlo simulation is a model used to predict the probability of different outcomes when the intervention of random variables is present. Monte Carlo simulations help to explain the impact of risk and uncertainty in prediction and forecasting models. (https://www.investopedia.com/terms/m/montecarlosimulation.asp#:~:text=A%20Monte%20Carlo%20simulation%20is,in%20prediction%20and%20forecasting%20models.)"
   ]
  },
  {
   "cell_type": "code",
   "execution_count": 12,
   "id": "341b5820",
   "metadata": {},
   "outputs": [],
   "source": [
    "import random, pylab"
   ]
  },
  {
   "cell_type": "code",
   "execution_count": 13,
   "id": "573be0da",
   "metadata": {},
   "outputs": [],
   "source": [
    "#set line width\n",
    "pylab.rcParams['lines.linewidth'] = 4\n",
    "#set font size for titles \n",
    "pylab.rcParams['axes.titlesize'] = 20\n",
    "#set font size for labels on axes\n",
    "pylab.rcParams['axes.labelsize'] = 20\n",
    "#set size of numbers on x-axis\n",
    "pylab.rcParams['xtick.labelsize'] = 16\n",
    "#set size of numbers on y-axis\n",
    "pylab.rcParams['ytick.labelsize'] = 16\n",
    "#set size of ticks on x-axis\n",
    "pylab.rcParams['xtick.major.size'] = 7\n",
    "#set size of ticks on y-axis\n",
    "pylab.rcParams['ytick.major.size'] = 7\n",
    "#set size of markers, e.g., circles representing points\n",
    "#set numpoints for legend\n",
    "pylab.rcParams['legend.numpoints'] = 1"
   ]
  },
  {
   "cell_type": "markdown",
   "id": "0b11bf5f",
   "metadata": {},
   "source": [
    "Roulette is a casino game in which a player may choose to place a bet on a single number, various groupings of numbers, the color red or black, whether the number is odd or even, or if the numbers are high (19–36) or low (1–18)."
   ]
  },
  {
   "cell_type": "code",
   "execution_count": 14,
   "id": "652503b1",
   "metadata": {},
   "outputs": [],
   "source": [
    "class FairRoulette():\n",
    "    def __init__(self):\n",
    "        self.pockets = []\n",
    "        for i in range(1,37):\n",
    "            self.pockets.append(i)\n",
    "        self.ball = None\n",
    "        self.pocketOdds = len(self.pockets) - 1\n",
    "    def spin(self):\n",
    "        self.ball = random.choice(self.pockets)\n",
    "    def betPocket(self, pocket, amt):\n",
    "        if str(pocket) == str(self.ball):\n",
    "            return amt*self.pocketOdds\n",
    "        else: return -amt\n",
    "    def __str__(self):\n",
    "        return 'Fair Roulette'\n"
   ]
  },
  {
   "cell_type": "code",
   "execution_count": 15,
   "id": "3e1f2f43",
   "metadata": {},
   "outputs": [],
   "source": [
    "def playRoulette(game, numSpins, pocket, bet, toPrint):\n",
    "    totPocket = 0\n",
    "    for i in range(numSpins):\n",
    "        game.spin()\n",
    "        totPocket += game.betPocket(pocket, bet)\n",
    "    if toPrint:\n",
    "        print(numSpins, 'spins of', game)\n",
    "        print('Expected return betting', pocket, '=',\\\n",
    "              str(100*totPocket/numSpins) + '%\\n')\n",
    "    return (totPocket/numSpins)"
   ]
  },
  {
   "cell_type": "markdown",
   "id": "c02d2491",
   "metadata": {},
   "source": [
    "Start the Monte Carlo Simulation for Roulette."
   ]
  },
  {
   "cell_type": "code",
   "execution_count": 16,
   "id": "6bb0df1f",
   "metadata": {},
   "outputs": [
    {
     "name": "stdout",
     "output_type": "stream",
     "text": [
      "100 spins of Fair Roulette\n",
      "Expected return betting 2 = -100.0%\n",
      "\n",
      "100 spins of Fair Roulette\n",
      "Expected return betting 2 = 44.0%\n",
      "\n",
      "100 spins of Fair Roulette\n",
      "Expected return betting 2 = -28.0%\n",
      "\n",
      "1000000 spins of Fair Roulette\n",
      "Expected return betting 2 = -0.046%\n",
      "\n",
      "1000000 spins of Fair Roulette\n",
      "Expected return betting 2 = 0.602%\n",
      "\n",
      "1000000 spins of Fair Roulette\n",
      "Expected return betting 2 = 0.7964%\n",
      "\n"
     ]
    }
   ],
   "source": [
    "random.seed(0)\n",
    "game = FairRoulette()\n",
    "for numSpins in (100, 1000000):\n",
    "    for i in range(3):\n",
    "        playRoulette(game, numSpins, 2, 1, True)"
   ]
  },
  {
   "cell_type": "markdown",
   "id": "6f9bd9ef",
   "metadata": {},
   "source": [
    "What is European Roulette? In European Roulette, the numbers on the wheel are in a different order and a single green zero. It's a small distinction, but one, when you understand the nuances, that can make a significant difference to your win rate in the long term."
   ]
  },
  {
   "cell_type": "code",
   "execution_count": 17,
   "id": "aaad11e8",
   "metadata": {},
   "outputs": [],
   "source": [
    "class EuropeanRoulette(FairRoulette):\n",
    "    def __init__(self):\n",
    "        FairRoulette.__init__(self)\n",
    "        self.pockets.append('0')\n",
    "    def __str__(self):\n",
    "        return 'European Roulette'"
   ]
  },
  {
   "cell_type": "markdown",
   "id": "f1b3c186",
   "metadata": {},
   "source": [
    "What is American roulette? American Roulette and European Roulette may look the same upon first glance, but a closer examination reveals key differences between the two games. The American Roulette contains two green zones."
   ]
  },
  {
   "cell_type": "code",
   "execution_count": 18,
   "id": "d35b9fe5",
   "metadata": {},
   "outputs": [],
   "source": [
    "class AmericanRoulette(EuRoulette):\n",
    "    def __init__(self):\n",
    "        EuRoulette.__init__(self)\n",
    "        self.pockets.append('00')\n",
    "    def __str__(self):\n",
    "        return 'American Roulette'"
   ]
  },
  {
   "cell_type": "code",
   "execution_count": 19,
   "id": "41199a4d",
   "metadata": {},
   "outputs": [],
   "source": [
    "def findPocketReturn(game, numTrials, trialSize, toPrint):\n",
    "    pocketReturns = []\n",
    "    for t in range(numTrials):\n",
    "        trialVals = playRoulette(game, trialSize, 2, 1, toPrint)\n",
    "        pocketReturns.append(trialVals)\n",
    "    return pocketReturns"
   ]
  },
  {
   "cell_type": "markdown",
   "id": "df278402",
   "metadata": {},
   "source": [
    "Start the Monte Carlo Simulation fpr all style of Roulettes."
   ]
  },
  {
   "cell_type": "code",
   "execution_count": 20,
   "id": "2360e403",
   "metadata": {},
   "outputs": [
    {
     "name": "stdout",
     "output_type": "stream",
     "text": [
      "\n",
      "Simulate 20 trials of 1000 spins each\n",
      "Exp. return for Fair Roulette = 6.56%\n",
      "Exp. return for European Roulette = -2.26%\n",
      "Exp. return for American Roulette = -8.92%\n",
      "\n",
      "Simulate 20 trials of 10000 spins each\n",
      "Exp. return for Fair Roulette = -1.234%\n",
      "Exp. return for European Roulette = -4.168%\n",
      "Exp. return for American Roulette = -5.752%\n",
      "\n",
      "Simulate 20 trials of 100000 spins each\n",
      "Exp. return for Fair Roulette = 0.8144%\n",
      "Exp. return for European Roulette = -2.6506%\n",
      "Exp. return for American Roulette = -5.113%\n",
      "\n",
      "Simulate 20 trials of 1000000 spins each\n",
      "Exp. return for Fair Roulette = -0.0723%\n",
      "Exp. return for European Roulette = -2.7329%\n",
      "Exp. return for American Roulette = -5.212%\n"
     ]
    }
   ],
   "source": [
    "random.seed(0)\n",
    "numTrials = 20\n",
    "resultDict = {}\n",
    "games = (FairRoulette, EuropeanRoulette, AmericanRoulette)\n",
    "for G in games:\n",
    "    resultDict[G().__str__()] = []\n",
    "for numSpins in (1000, 10000, 100000, 1000000):\n",
    "    print('\\nSimulate', numTrials, 'trials of',\n",
    "          numSpins, 'spins each')\n",
    "    for G in games:\n",
    "        pocketReturns = findPocketReturn(G(), numTrials,\n",
    "                                         numSpins, False)\n",
    "        expReturn = 100*sum(pocketReturns)/len(pocketReturns)\n",
    "        print('Exp. return for', G(), '=',\n",
    "             str(round(expReturn, 4)) + '%')"
   ]
  },
  {
   "cell_type": "code",
   "execution_count": null,
   "id": "26bb2984",
   "metadata": {},
   "outputs": [],
   "source": [
    "def getMeanAndStd(X):\n",
    "    mean = sum(X)/float(len(X))\n",
    "    tot = 0.0\n",
    "    for x in X:\n",
    "        tot += (x - mean)**2\n",
    "    std = (tot/len(X))**0.5\n",
    "    return mean, std"
   ]
  },
  {
   "cell_type": "markdown",
   "id": "6927b989",
   "metadata": {},
   "source": [
    "Sources \n",
    "\n",
    "Youtube https://www.youtube.com/watch?v=OgO1gpXSUzU\n",
    "Slides https://ocw.mit.edu/courses/6-0002-introduction-to-computational-thinking-and-data-science-fall-2016/resources/mit6_0002f16_lec6/\n",
    "Code https://ocw.mit.edu/courses/6-0002-introduction-to-computational-thinking-and-data-science-fall-2016/d257bb9444ccae314ffdd20dd0244f80_lect6.py\n",
    "\n",
    "Monte Carlo Simulation\tChapter 15.1–15.4, Chapter 16 of https://books.google.ch/books?id=KabKDAAAQBAJ&pg=PAfrontcover&redir_esc=y&hl=en#v=onepage&q&f=false\n",
    "\n",
    "https://ocw.mit.edu/courses/6-0002-introduction-to-computational-thinking-and-data-science-fall-2016/pages/syllabus/"
   ]
  },
  {
   "cell_type": "code",
   "execution_count": null,
   "id": "d055b822",
   "metadata": {},
   "outputs": [],
   "source": []
  },
  {
   "cell_type": "code",
   "execution_count": null,
   "id": "cfebc15e",
   "metadata": {},
   "outputs": [],
   "source": []
  },
  {
   "cell_type": "code",
   "execution_count": null,
   "id": "9debc236",
   "metadata": {},
   "outputs": [],
   "source": []
  }
 ],
 "metadata": {
  "kernelspec": {
   "display_name": "Python 3 (ipykernel)",
   "language": "python",
   "name": "python3"
  },
  "language_info": {
   "codemirror_mode": {
    "name": "ipython",
    "version": 3
   },
   "file_extension": ".py",
   "mimetype": "text/x-python",
   "name": "python",
   "nbconvert_exporter": "python",
   "pygments_lexer": "ipython3",
   "version": "3.9.12"
  }
 },
 "nbformat": 4,
 "nbformat_minor": 5
}
