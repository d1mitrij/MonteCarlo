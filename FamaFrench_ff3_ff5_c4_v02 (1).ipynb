{
 "cells": [
  {
   "cell_type": "markdown",
   "id": "ffa99b5a",
   "metadata": {},
   "source": [
    "# Fama-French (3 - 5 ) and Carhart Model in Python\n",
    "\n",
    "This script provides a presentation for the Fama-French Three-factor Model, the Fama-French Five-factor Model and contains an optional version of the Fama-French Three-factor Model including the Momentum. I aimed to establish this script to include ESG Factors as a further Factor but until now cannot hold of a model that provides a serious explenation based on public available data.\n",
    "\n",
    "The Fama-French Three-factor Model is an extension of the Capital Asset Pricing Model (CAPM). The Fama-French model aims to describe stock returns through three factors: (1) market risk, (2) the outperformance of small-cap companies relative to large-cap companies, and (3) the outperformance of high book-to-market value companies versus low book-to-market value companies. The rationale behind the model is that high value and small-cap companies tend to regularly outperform the overall market.\n",
    "\n",
    "The Fama/French five factors (2x3) are constructed using the 6 value-weight portfolios formed on size and book-to-market, the 6 value-weight portfolios formed on size and operating profitability, and the 6 value-weight portfolios formed on size and investment.\n",
    "\n",
    "Carhart added a fourth factor for momentum which, while statistically significant, did not fit into Fama-French framework for invalidating the CAPM. This model is included as the third model based on the Three Factor Model.\n",
    "\n",
    "The script is structured as follows\n",
    "- Introduction (only technical issues)\n",
    "- Get Stock Data from Public Domain (Yahoo)\n",
    "- Get Fama French Market Data (for all three models)\n",
    "- Cost of Equity (for all three models)\n",
    "- Compaire the expected returns equities"
   ]
  },
  {
   "cell_type": "markdown",
   "id": "19e26fc6",
   "metadata": {},
   "source": [
    "## Introduction (only technical issues)"
   ]
  },
  {
   "cell_type": "markdown",
   "id": "bb795d13",
   "metadata": {},
   "source": [
    "Install libraries in jupyter if necessary."
   ]
  },
  {
   "cell_type": "code",
   "execution_count": 1,
   "id": "d044130e",
   "metadata": {},
   "outputs": [
    {
     "name": "stdout",
     "output_type": "stream",
     "text": [
      "Requirement already satisfied: pandas in c:\\users\\dimit\\appdata\\roaming\\python\\python39\\site-packages (1.3.2)\n",
      "Requirement already satisfied: python-dateutil>=2.7.3 in c:\\users\\dimit\\appdata\\roaming\\python\\python39\\site-packages (from pandas) (2.8.2)\n",
      "Requirement already satisfied: numpy>=1.17.3 in c:\\users\\dimit\\anaconda3\\lib\\site-packages (from pandas) (1.22.4)\n",
      "Requirement already satisfied: pytz>=2017.3 in c:\\users\\dimit\\appdata\\roaming\\python\\python39\\site-packages (from pandas) (2021.1)\n"
     ]
    },
    {
     "name": "stderr",
     "output_type": "stream",
     "text": [
      "WARNING: You are using pip version 21.2.4; however, version 22.1.2 is available.\n",
      "You should consider upgrading via the 'C:\\Users\\dimit\\anaconda3\\python.exe -m pip install --upgrade pip' command.\n"
     ]
    },
    {
     "name": "stdout",
     "output_type": "stream",
     "text": [
      "Requirement already satisfied: six>=1.5 in c:\\users\\dimit\\appdata\\roaming\\python\\python39\\site-packages (from python-dateutil>=2.7.3->pandas) (1.16.0)\n",
      "Requirement already satisfied: pandas_datareader in c:\\users\\dimit\\anaconda3\\lib\\site-packages (0.10.0)\n",
      "Requirement already satisfied: pandas>=0.23 in c:\\users\\dimit\\appdata\\roaming\\python\\python39\\site-packages (from pandas_datareader) (1.3.2)\n",
      "Requirement already satisfied: requests>=2.19.0 in c:\\users\\dimit\\appdata\\roaming\\python\\python39\\site-packages (from pandas_datareader) (2.26.0)\n",
      "Requirement already satisfied: lxml in c:\\users\\dimit\\anaconda3\\lib\\site-packages (from pandas_datareader) (4.8.0)\n",
      "Requirement already satisfied: numpy>=1.17.3 in c:\\users\\dimit\\anaconda3\\lib\\site-packages (from pandas>=0.23->pandas_datareader) (1.22.4)\n",
      "Requirement already satisfied: python-dateutil>=2.7.3 in c:\\users\\dimit\\appdata\\roaming\\python\\python39\\site-packages (from pandas>=0.23->pandas_datareader) (2.8.2)\n",
      "Requirement already satisfied: pytz>=2017.3 in c:\\users\\dimit\\appdata\\roaming\\python\\python39\\site-packages (from pandas>=0.23->pandas_datareader) (2021.1)\n",
      "Requirement already satisfied: six>=1.5 in c:\\users\\dimit\\appdata\\roaming\\python\\python39\\site-packages (from python-dateutil>=2.7.3->pandas>=0.23->pandas_datareader) (1.16.0)\n",
      "Requirement already satisfied: certifi>=2017.4.17 in c:\\users\\dimit\\appdata\\roaming\\python\\python39\\site-packages (from requests>=2.19.0->pandas_datareader) (2021.5.30)\n",
      "Requirement already satisfied: urllib3<1.27,>=1.21.1 in c:\\users\\dimit\\appdata\\roaming\\python\\python39\\site-packages (from requests>=2.19.0->pandas_datareader) (1.26.6)\n",
      "Requirement already satisfied: charset-normalizer~=2.0.0 in c:\\users\\dimit\\appdata\\roaming\\python\\python39\\site-packages (from requests>=2.19.0->pandas_datareader) (2.0.4)\n",
      "Requirement already satisfied: idna<4,>=2.5 in c:\\users\\dimit\\appdata\\roaming\\python\\python39\\site-packages (from requests>=2.19.0->pandas_datareader) (3.2)\n"
     ]
    },
    {
     "name": "stderr",
     "output_type": "stream",
     "text": [
      "WARNING: You are using pip version 21.2.4; however, version 22.1.2 is available.\n",
      "You should consider upgrading via the 'C:\\Users\\dimit\\anaconda3\\python.exe -m pip install --upgrade pip' command.\n"
     ]
    },
    {
     "name": "stdout",
     "output_type": "stream",
     "text": [
      "Requirement already satisfied: statsmodels in c:\\users\\dimit\\anaconda3\\lib\\site-packages (0.13.2)\n",
      "Requirement already satisfied: numpy>=1.17 in c:\\users\\dimit\\anaconda3\\lib\\site-packages (from statsmodels) (1.22.4)\n",
      "Requirement already satisfied: scipy>=1.3 in c:\\users\\dimit\\anaconda3\\lib\\site-packages (from statsmodels) (1.7.3)\n",
      "Requirement already satisfied: pandas>=0.25 in c:\\users\\dimit\\appdata\\roaming\\python\\python39\\site-packages (from statsmodels) (1.3.2)\n",
      "Requirement already satisfied: patsy>=0.5.2 in c:\\users\\dimit\\anaconda3\\lib\\site-packages (from statsmodels) (0.5.2)\n",
      "Requirement already satisfied: packaging>=21.3 in c:\\users\\dimit\\anaconda3\\lib\\site-packages (from statsmodels) (21.3)\n",
      "Requirement already satisfied: pyparsing!=3.0.5,>=2.0.2 in c:\\users\\dimit\\appdata\\roaming\\python\\python39\\site-packages (from packaging>=21.3->statsmodels) (2.4.7)\n",
      "Requirement already satisfied: python-dateutil>=2.7.3 in c:\\users\\dimit\\appdata\\roaming\\python\\python39\\site-packages (from pandas>=0.25->statsmodels) (2.8.2)\n",
      "Requirement already satisfied: pytz>=2017.3 in c:\\users\\dimit\\appdata\\roaming\\python\\python39\\site-packages (from pandas>=0.25->statsmodels) (2021.1)\n",
      "Requirement already satisfied: six in c:\\users\\dimit\\appdata\\roaming\\python\\python39\\site-packages (from patsy>=0.5.2->statsmodels) (1.16.0)\n"
     ]
    },
    {
     "name": "stderr",
     "output_type": "stream",
     "text": [
      "WARNING: You are using pip version 21.2.4; however, version 22.1.2 is available.\n",
      "You should consider upgrading via the 'C:\\Users\\dimit\\anaconda3\\python.exe -m pip install --upgrade pip' command.\n"
     ]
    },
    {
     "name": "stdout",
     "output_type": "stream",
     "text": [
      "Requirement already satisfied: matplotlib in c:\\users\\dimit\\appdata\\roaming\\python\\python39\\site-packages (3.4.3)\n",
      "Requirement already satisfied: cycler>=0.10 in c:\\users\\dimit\\appdata\\roaming\\python\\python39\\site-packages (from matplotlib) (0.10.0)\n",
      "Requirement already satisfied: pyparsing>=2.2.1 in c:\\users\\dimit\\appdata\\roaming\\python\\python39\\site-packages (from matplotlib) (2.4.7)\n",
      "Requirement already satisfied: pillow>=6.2.0 in c:\\users\\dimit\\appdata\\roaming\\python\\python39\\site-packages (from matplotlib) (8.3.2)\n",
      "Requirement already satisfied: kiwisolver>=1.0.1 in c:\\users\\dimit\\appdata\\roaming\\python\\python39\\site-packages (from matplotlib) (1.3.2)\n",
      "Requirement already satisfied: numpy>=1.16 in c:\\users\\dimit\\anaconda3\\lib\\site-packages (from matplotlib) (1.22.4)\n",
      "Requirement already satisfied: python-dateutil>=2.7 in c:\\users\\dimit\\appdata\\roaming\\python\\python39\\site-packages (from matplotlib) (2.8.2)\n",
      "Requirement already satisfied: six in c:\\users\\dimit\\appdata\\roaming\\python\\python39\\site-packages (from cycler>=0.10->matplotlib) (1.16.0)\n"
     ]
    },
    {
     "name": "stderr",
     "output_type": "stream",
     "text": [
      "WARNING: You are using pip version 21.2.4; however, version 22.1.2 is available.\n",
      "You should consider upgrading via the 'C:\\Users\\dimit\\anaconda3\\python.exe -m pip install --upgrade pip' command.\n"
     ]
    },
    {
     "name": "stdout",
     "output_type": "stream",
     "text": [
      "Requirement already satisfied: getFamaFrenchfactors in c:\\users\\dimit\\anaconda3\\lib\\site-packages (0.0.5)\n",
      "Requirement already satisfied: requests in c:\\users\\dimit\\appdata\\roaming\\python\\python39\\site-packages (from getFamaFrenchfactors) (2.26.0)\n",
      "Requirement already satisfied: bs4 in c:\\users\\dimit\\anaconda3\\lib\\site-packages (from getFamaFrenchfactors) (0.0.1)\n",
      "Requirement already satisfied: pandas in c:\\users\\dimit\\appdata\\roaming\\python\\python39\\site-packages (from getFamaFrenchfactors) (1.3.2)\n",
      "Requirement already satisfied: beautifulsoup4 in c:\\users\\dimit\\appdata\\roaming\\python\\python39\\site-packages (from bs4->getFamaFrenchfactors) (4.9.3)\n",
      "Requirement already satisfied: soupsieve>1.2 in c:\\users\\dimit\\appdata\\roaming\\python\\python39\\site-packages (from beautifulsoup4->bs4->getFamaFrenchfactors) (2.2.1)\n",
      "Requirement already satisfied: pytz>=2017.3 in c:\\users\\dimit\\appdata\\roaming\\python\\python39\\site-packages (from pandas->getFamaFrenchfactors) (2021.1)\n",
      "Requirement already satisfied: numpy>=1.17.3 in c:\\users\\dimit\\anaconda3\\lib\\site-packages (from pandas->getFamaFrenchfactors) (1.22.4)\n",
      "Requirement already satisfied: python-dateutil>=2.7.3 in c:\\users\\dimit\\appdata\\roaming\\python\\python39\\site-packages (from pandas->getFamaFrenchfactors) (2.8.2)\n",
      "Requirement already satisfied: six>=1.5 in c:\\users\\dimit\\appdata\\roaming\\python\\python39\\site-packages (from python-dateutil>=2.7.3->pandas->getFamaFrenchfactors) (1.16.0)\n",
      "Requirement already satisfied: certifi>=2017.4.17 in c:\\users\\dimit\\appdata\\roaming\\python\\python39\\site-packages (from requests->getFamaFrenchfactors) (2021.5.30)\n",
      "Requirement already satisfied: idna<4,>=2.5 in c:\\users\\dimit\\appdata\\roaming\\python\\python39\\site-packages (from requests->getFamaFrenchfactors) (3.2)\n",
      "Requirement already satisfied: urllib3<1.27,>=1.21.1 in c:\\users\\dimit\\appdata\\roaming\\python\\python39\\site-packages (from requests->getFamaFrenchfactors) (1.26.6)\n",
      "Requirement already satisfied: charset-normalizer~=2.0.0 in c:\\users\\dimit\\appdata\\roaming\\python\\python39\\site-packages (from requests->getFamaFrenchfactors) (2.0.4)\n"
     ]
    },
    {
     "name": "stderr",
     "output_type": "stream",
     "text": [
      "WARNING: You are using pip version 21.2.4; however, version 22.1.2 is available.\n",
      "You should consider upgrading via the 'C:\\Users\\dimit\\anaconda3\\python.exe -m pip install --upgrade pip' command.\n"
     ]
    },
    {
     "name": "stdout",
     "output_type": "stream",
     "text": [
      "Requirement already satisfied: seaborn in c:\\users\\dimit\\anaconda3\\lib\\site-packages (0.11.2)\n",
      "Requirement already satisfied: numpy>=1.15 in c:\\users\\dimit\\anaconda3\\lib\\site-packages (from seaborn) (1.22.4)\n",
      "Requirement already satisfied: scipy>=1.0 in c:\\users\\dimit\\anaconda3\\lib\\site-packages (from seaborn) (1.7.3)\n",
      "Requirement already satisfied: matplotlib>=2.2 in c:\\users\\dimit\\appdata\\roaming\\python\\python39\\site-packages (from seaborn) (3.4.3)\n",
      "Requirement already satisfied: pandas>=0.23 in c:\\users\\dimit\\appdata\\roaming\\python\\python39\\site-packages (from seaborn) (1.3.2)\n",
      "Requirement already satisfied: kiwisolver>=1.0.1 in c:\\users\\dimit\\appdata\\roaming\\python\\python39\\site-packages (from matplotlib>=2.2->seaborn) (1.3.2)\n",
      "Requirement already satisfied: python-dateutil>=2.7 in c:\\users\\dimit\\appdata\\roaming\\python\\python39\\site-packages (from matplotlib>=2.2->seaborn) (2.8.2)\n",
      "Requirement already satisfied: cycler>=0.10 in c:\\users\\dimit\\appdata\\roaming\\python\\python39\\site-packages (from matplotlib>=2.2->seaborn) (0.10.0)\n",
      "Requirement already satisfied: pillow>=6.2.0 in c:\\users\\dimit\\appdata\\roaming\\python\\python39\\site-packages (from matplotlib>=2.2->seaborn) (8.3.2)\n",
      "Requirement already satisfied: pyparsing>=2.2.1 in c:\\users\\dimit\\appdata\\roaming\\python\\python39\\site-packages (from matplotlib>=2.2->seaborn) (2.4.7)\n",
      "Requirement already satisfied: six in c:\\users\\dimit\\appdata\\roaming\\python\\python39\\site-packages (from cycler>=0.10->matplotlib>=2.2->seaborn) (1.16.0)\n",
      "Requirement already satisfied: pytz>=2017.3 in c:\\users\\dimit\\appdata\\roaming\\python\\python39\\site-packages (from pandas>=0.23->seaborn) (2021.1)\n"
     ]
    },
    {
     "name": "stderr",
     "output_type": "stream",
     "text": [
      "WARNING: You are using pip version 21.2.4; however, version 22.1.2 is available.\n",
      "You should consider upgrading via the 'C:\\Users\\dimit\\anaconda3\\python.exe -m pip install --upgrade pip' command.\n"
     ]
    }
   ],
   "source": [
    "!pip install pandas\n",
    "!pip install pandas_datareader\n",
    "!pip install statsmodels\n",
    "!pip install matplotlib\n",
    "!pip install getFamaFrenchfactors \n",
    "!pip install seaborn"
   ]
  },
  {
   "cell_type": "markdown",
   "id": "6210d7d9",
   "metadata": {},
   "source": [
    "Import libraries to run the script."
   ]
  },
  {
   "cell_type": "code",
   "execution_count": 2,
   "id": "cda0fa7d",
   "metadata": {},
   "outputs": [],
   "source": [
    "import pandas as pd \n",
    "import numpy as np\n",
    "import pandas_datareader.data as reader \n",
    "import datetime as dt \n",
    "import statsmodels.api as sm \n",
    "import matplotlib.pyplot as plt \n",
    "import getFamaFrenchFactors as gff \n",
    "import seaborn as sns "
   ]
  },
  {
   "cell_type": "markdown",
   "id": "af58934e",
   "metadata": {},
   "source": [
    "## Get Stock Data from Public Domain (Yahoo)"
   ]
  },
  {
   "cell_type": "markdown",
   "id": "2dc7ca2b",
   "metadata": {},
   "source": [
    "Set the time frame for the request\n",
    "\n",
    "https://finance.yahoo.com/quote/USOI?p=USOI&.tsrc=fin-srch"
   ]
  },
  {
   "cell_type": "code",
   "execution_count": 3,
   "id": "3cd4a67c",
   "metadata": {},
   "outputs": [],
   "source": [
    "#end = dt.datetime.now() \n",
    "end = dt.date(2022, 2, 9)\n",
    "start = dt.date(end.year - 6, end.month, end.day) "
   ]
  },
  {
   "cell_type": "markdown",
   "id": "2bbae845",
   "metadata": {},
   "source": [
    "Set the stocks"
   ]
  },
  {
   "cell_type": "code",
   "execution_count": 4,
   "id": "d2abd7f6",
   "metadata": {},
   "outputs": [
    {
     "data": {
      "text/html": [
       "<div>\n",
       "<style scoped>\n",
       "    .dataframe tbody tr th:only-of-type {\n",
       "        vertical-align: middle;\n",
       "    }\n",
       "\n",
       "    .dataframe tbody tr th {\n",
       "        vertical-align: top;\n",
       "    }\n",
       "\n",
       "    .dataframe thead th {\n",
       "        text-align: right;\n",
       "    }\n",
       "</style>\n",
       "<table border=\"1\" class=\"dataframe\">\n",
       "  <thead>\n",
       "    <tr style=\"text-align: right;\">\n",
       "      <th>Symbols</th>\n",
       "      <th>GOOG</th>\n",
       "    </tr>\n",
       "    <tr>\n",
       "      <th>Date</th>\n",
       "      <th></th>\n",
       "    </tr>\n",
       "  </thead>\n",
       "  <tbody>\n",
       "    <tr>\n",
       "      <th>2016-02-09</th>\n",
       "      <td>678.109985</td>\n",
       "    </tr>\n",
       "    <tr>\n",
       "      <th>2016-02-10</th>\n",
       "      <td>684.119995</td>\n",
       "    </tr>\n",
       "    <tr>\n",
       "      <th>2016-02-11</th>\n",
       "      <td>683.109985</td>\n",
       "    </tr>\n",
       "    <tr>\n",
       "      <th>2016-02-12</th>\n",
       "      <td>682.400024</td>\n",
       "    </tr>\n",
       "    <tr>\n",
       "      <th>2016-02-16</th>\n",
       "      <td>691.000000</td>\n",
       "    </tr>\n",
       "  </tbody>\n",
       "</table>\n",
       "</div>"
      ],
      "text/plain": [
       "Symbols           GOOG\n",
       "Date                  \n",
       "2016-02-09  678.109985\n",
       "2016-02-10  684.119995\n",
       "2016-02-11  683.109985\n",
       "2016-02-12  682.400024\n",
       "2016-02-16  691.000000"
      ]
     },
     "execution_count": 4,
     "metadata": {},
     "output_type": "execute_result"
    }
   ],
   "source": [
    "ticker = ['GOOG']\n",
    "stock_prices = reader.get_data_yahoo(ticker, start, end)['Adj Close'] \n",
    "stock_prices.head()"
   ]
  },
  {
   "cell_type": "markdown",
   "id": "560b3fd9",
   "metadata": {},
   "source": [
    "Resample the record to monthly frequency."
   ]
  },
  {
   "cell_type": "code",
   "execution_count": 5,
   "id": "06cf8081",
   "metadata": {},
   "outputs": [
    {
     "data": {
      "text/html": [
       "<div>\n",
       "<style scoped>\n",
       "    .dataframe tbody tr th:only-of-type {\n",
       "        vertical-align: middle;\n",
       "    }\n",
       "\n",
       "    .dataframe tbody tr th {\n",
       "        vertical-align: top;\n",
       "    }\n",
       "\n",
       "    .dataframe thead th {\n",
       "        text-align: right;\n",
       "    }\n",
       "</style>\n",
       "<table border=\"1\" class=\"dataframe\">\n",
       "  <thead>\n",
       "    <tr style=\"text-align: right;\">\n",
       "      <th>Symbols</th>\n",
       "      <th>GOOG</th>\n",
       "    </tr>\n",
       "    <tr>\n",
       "      <th>Date</th>\n",
       "      <th></th>\n",
       "    </tr>\n",
       "  </thead>\n",
       "  <tbody>\n",
       "    <tr>\n",
       "      <th>2016-02-29</th>\n",
       "      <td>697.770020</td>\n",
       "    </tr>\n",
       "    <tr>\n",
       "      <th>2016-03-31</th>\n",
       "      <td>744.950012</td>\n",
       "    </tr>\n",
       "    <tr>\n",
       "      <th>2016-04-30</th>\n",
       "      <td>693.010010</td>\n",
       "    </tr>\n",
       "    <tr>\n",
       "      <th>2016-05-31</th>\n",
       "      <td>735.719971</td>\n",
       "    </tr>\n",
       "    <tr>\n",
       "      <th>2016-06-30</th>\n",
       "      <td>692.099976</td>\n",
       "    </tr>\n",
       "  </tbody>\n",
       "</table>\n",
       "</div>"
      ],
      "text/plain": [
       "Symbols           GOOG\n",
       "Date                  \n",
       "2016-02-29  697.770020\n",
       "2016-03-31  744.950012\n",
       "2016-04-30  693.010010\n",
       "2016-05-31  735.719971\n",
       "2016-06-30  692.099976"
      ]
     },
     "execution_count": 5,
     "metadata": {},
     "output_type": "execute_result"
    }
   ],
   "source": [
    "stock_prices = stock_prices.resample('1M').last() \n",
    "stock_prices.head()"
   ]
  },
  {
   "cell_type": "markdown",
   "id": "56ec761c",
   "metadata": {},
   "source": [
    "Compute to monthly returns."
   ]
  },
  {
   "cell_type": "code",
   "execution_count": 6,
   "id": "f01f5c5f",
   "metadata": {},
   "outputs": [
    {
     "data": {
      "text/html": [
       "<div>\n",
       "<style scoped>\n",
       "    .dataframe tbody tr th:only-of-type {\n",
       "        vertical-align: middle;\n",
       "    }\n",
       "\n",
       "    .dataframe tbody tr th {\n",
       "        vertical-align: top;\n",
       "    }\n",
       "\n",
       "    .dataframe thead th {\n",
       "        text-align: right;\n",
       "    }\n",
       "</style>\n",
       "<table border=\"1\" class=\"dataframe\">\n",
       "  <thead>\n",
       "    <tr style=\"text-align: right;\">\n",
       "      <th>Symbols</th>\n",
       "      <th>GOOG</th>\n",
       "    </tr>\n",
       "    <tr>\n",
       "      <th>Date</th>\n",
       "      <th></th>\n",
       "    </tr>\n",
       "  </thead>\n",
       "  <tbody>\n",
       "    <tr>\n",
       "      <th>2016-03-31</th>\n",
       "      <td>0.067615</td>\n",
       "    </tr>\n",
       "    <tr>\n",
       "      <th>2016-04-30</th>\n",
       "      <td>-0.069723</td>\n",
       "    </tr>\n",
       "    <tr>\n",
       "      <th>2016-05-31</th>\n",
       "      <td>0.061630</td>\n",
       "    </tr>\n",
       "    <tr>\n",
       "      <th>2016-06-30</th>\n",
       "      <td>-0.059289</td>\n",
       "    </tr>\n",
       "    <tr>\n",
       "      <th>2016-07-31</th>\n",
       "      <td>0.110808</td>\n",
       "    </tr>\n",
       "  </tbody>\n",
       "</table>\n",
       "</div>"
      ],
      "text/plain": [
       "Symbols         GOOG\n",
       "Date                \n",
       "2016-03-31  0.067615\n",
       "2016-04-30 -0.069723\n",
       "2016-05-31  0.061630\n",
       "2016-06-30 -0.059289\n",
       "2016-07-31  0.110808"
      ]
     },
     "execution_count": 6,
     "metadata": {},
     "output_type": "execute_result"
    }
   ],
   "source": [
    "stock_returns = stock_prices.pct_change() \n",
    "stock_returns = stock_returns.dropna() \n",
    "stock_returns.head()"
   ]
  },
  {
   "cell_type": "markdown",
   "id": "ae5f15bf",
   "metadata": {},
   "source": [
    "## Get Fama French Market Data "
   ]
  },
  {
   "cell_type": "markdown",
   "id": "8c3bbe11",
   "metadata": {},
   "source": [
    "The library gets the data from the Kenneth French library and returns it as a Pandas dataframe.\n",
    "\n",
    "https://github.com/vashOnGitHub/getFamaFrenchFactors\n",
    "https://mba.tuck.dartmouth.edu/pages/faculty/ken.french/data_library.html"
   ]
  },
  {
   "cell_type": "markdown",
   "id": "4c8d79d6",
   "metadata": {},
   "source": [
    "### 3 - Factor\n",
    "\n",
    "The Fama French 3 factor model includes the:\n",
    "\n",
    "Market Risk Premium (MRP)\n",
    "Size Premium (i.e., Small minus Big) (SMB)\n",
    "Value Premium (i.e., High Book-to-Market minus Low Book-to-Market)\n",
    "The Risk-free rate (RF)"
   ]
  },
  {
   "cell_type": "code",
   "execution_count": 7,
   "id": "097e3a36",
   "metadata": {},
   "outputs": [
    {
     "data": {
      "text/html": [
       "<div>\n",
       "<style scoped>\n",
       "    .dataframe tbody tr th:only-of-type {\n",
       "        vertical-align: middle;\n",
       "    }\n",
       "\n",
       "    .dataframe tbody tr th {\n",
       "        vertical-align: top;\n",
       "    }\n",
       "\n",
       "    .dataframe thead th {\n",
       "        text-align: right;\n",
       "    }\n",
       "</style>\n",
       "<table border=\"1\" class=\"dataframe\">\n",
       "  <thead>\n",
       "    <tr style=\"text-align: right;\">\n",
       "      <th></th>\n",
       "      <th>Mkt-RF</th>\n",
       "      <th>SMB</th>\n",
       "      <th>HML</th>\n",
       "      <th>RF</th>\n",
       "    </tr>\n",
       "    <tr>\n",
       "      <th>Date</th>\n",
       "      <th></th>\n",
       "      <th></th>\n",
       "      <th></th>\n",
       "      <th></th>\n",
       "    </tr>\n",
       "  </thead>\n",
       "  <tbody>\n",
       "    <tr>\n",
       "      <th>1926-07-31</th>\n",
       "      <td>0.0296</td>\n",
       "      <td>-0.0238</td>\n",
       "      <td>-0.0273</td>\n",
       "      <td>0.0022</td>\n",
       "    </tr>\n",
       "    <tr>\n",
       "      <th>1926-08-31</th>\n",
       "      <td>0.0264</td>\n",
       "      <td>-0.0147</td>\n",
       "      <td>0.0414</td>\n",
       "      <td>0.0025</td>\n",
       "    </tr>\n",
       "    <tr>\n",
       "      <th>1926-09-30</th>\n",
       "      <td>0.0036</td>\n",
       "      <td>-0.0139</td>\n",
       "      <td>0.0012</td>\n",
       "      <td>0.0023</td>\n",
       "    </tr>\n",
       "    <tr>\n",
       "      <th>1926-10-31</th>\n",
       "      <td>-0.0324</td>\n",
       "      <td>-0.0013</td>\n",
       "      <td>0.0065</td>\n",
       "      <td>0.0032</td>\n",
       "    </tr>\n",
       "    <tr>\n",
       "      <th>1926-11-30</th>\n",
       "      <td>0.0253</td>\n",
       "      <td>-0.0016</td>\n",
       "      <td>-0.0038</td>\n",
       "      <td>0.0031</td>\n",
       "    </tr>\n",
       "    <tr>\n",
       "      <th>...</th>\n",
       "      <td>...</td>\n",
       "      <td>...</td>\n",
       "      <td>...</td>\n",
       "      <td>...</td>\n",
       "    </tr>\n",
       "    <tr>\n",
       "      <th>2021-12-31</th>\n",
       "      <td>0.0310</td>\n",
       "      <td>-0.0160</td>\n",
       "      <td>0.0322</td>\n",
       "      <td>0.0001</td>\n",
       "    </tr>\n",
       "    <tr>\n",
       "      <th>2022-01-31</th>\n",
       "      <td>-0.0625</td>\n",
       "      <td>-0.0593</td>\n",
       "      <td>0.1274</td>\n",
       "      <td>0.0000</td>\n",
       "    </tr>\n",
       "    <tr>\n",
       "      <th>2022-02-28</th>\n",
       "      <td>-0.0229</td>\n",
       "      <td>0.0218</td>\n",
       "      <td>0.0309</td>\n",
       "      <td>0.0000</td>\n",
       "    </tr>\n",
       "    <tr>\n",
       "      <th>2022-03-31</th>\n",
       "      <td>0.0306</td>\n",
       "      <td>-0.0161</td>\n",
       "      <td>-0.0182</td>\n",
       "      <td>0.0000</td>\n",
       "    </tr>\n",
       "    <tr>\n",
       "      <th>2022-04-30</th>\n",
       "      <td>-0.0944</td>\n",
       "      <td>-0.0140</td>\n",
       "      <td>0.0616</td>\n",
       "      <td>0.0000</td>\n",
       "    </tr>\n",
       "  </tbody>\n",
       "</table>\n",
       "<p>1150 rows × 4 columns</p>\n",
       "</div>"
      ],
      "text/plain": [
       "            Mkt-RF     SMB     HML      RF\n",
       "Date                                      \n",
       "1926-07-31  0.0296 -0.0238 -0.0273  0.0022\n",
       "1926-08-31  0.0264 -0.0147  0.0414  0.0025\n",
       "1926-09-30  0.0036 -0.0139  0.0012  0.0023\n",
       "1926-10-31 -0.0324 -0.0013  0.0065  0.0032\n",
       "1926-11-30  0.0253 -0.0016 -0.0038  0.0031\n",
       "...            ...     ...     ...     ...\n",
       "2021-12-31  0.0310 -0.0160  0.0322  0.0001\n",
       "2022-01-31 -0.0625 -0.0593  0.1274  0.0000\n",
       "2022-02-28 -0.0229  0.0218  0.0309  0.0000\n",
       "2022-03-31  0.0306 -0.0161 -0.0182  0.0000\n",
       "2022-04-30 -0.0944 -0.0140  0.0616  0.0000\n",
       "\n",
       "[1150 rows x 4 columns]"
      ]
     },
     "execution_count": 7,
     "metadata": {},
     "output_type": "execute_result"
    }
   ],
   "source": [
    "ff3_monthly = pd.DataFrame(gff.famaFrench3Factor(frequency='m'))\n",
    "ff3_monthly.rename (columns={'date_ff_factors':'Date'}, inplace=True) \n",
    "ff3_monthly.set_index('Date', inplace = True) \n",
    "ff3_monthly"
   ]
  },
  {
   "cell_type": "markdown",
   "id": "e2e04303",
   "metadata": {},
   "source": [
    "Show if there are actually premiums."
   ]
  },
  {
   "cell_type": "code",
   "execution_count": 8,
   "id": "a3bbeec3",
   "metadata": {},
   "outputs": [
    {
     "name": "stdout",
     "output_type": "stream",
     "text": [
      "0.006779652173913046 0.0019095652173913061 0.0035268695652173883\n"
     ]
    }
   ],
   "source": [
    "ff3_market_premium = ff3_monthly['Mkt-RF'].mean() \n",
    "ff3_size_premium = ff3_monthly['SMB'].mean() \n",
    "ff3_value_premium= ff3_monthly['HML' ].mean() \n",
    "print(ff3_market_premium, ff3_size_premium, ff3_value_premium) "
   ]
  },
  {
   "cell_type": "code",
   "execution_count": 9,
   "id": "b55c3cb3",
   "metadata": {},
   "outputs": [
    {
     "data": {
      "text/plain": [
       "<AxesSubplot:xlabel='Date'>"
      ]
     },
     "execution_count": 9,
     "metadata": {},
     "output_type": "execute_result"
    },
    {
     "data": {
      "image/png": "[encoded data removed]",
      "text/plain": [
       "<Figure size 432x288 with 1 Axes>"
      ]
     },
     "metadata": {
      "needs_background": "light"
     },
     "output_type": "display_data"
    }
   ],
   "source": [
    "sns.lineplot(data=ff3_monthly)"
   ]
  },
  {
   "cell_type": "markdown",
   "id": "e028c857",
   "metadata": {},
   "source": [
    "### 5-Factor\n",
    "\n",
    "The Fama French 5 factor returns:\n",
    "\n",
    "Market Risk Premium (MRP)\n",
    "Size Premium (i.e., Small minus Big) (SMB)\n",
    "Value Premium (i.e., High Book-to-Market minus Low Book-to-Market)\n",
    "Operating Profitability (i.e. Robust minus Weak) (RMW)\n",
    "Conservative minus Aggressive Investments (CMA)\n",
    "The Risk-free rate (RF)"
   ]
  },
  {
   "cell_type": "code",
   "execution_count": 10,
   "id": "f892aae1",
   "metadata": {},
   "outputs": [
    {
     "data": {
      "text/html": [
       "<div>\n",
       "<style scoped>\n",
       "    .dataframe tbody tr th:only-of-type {\n",
       "        vertical-align: middle;\n",
       "    }\n",
       "\n",
       "    .dataframe tbody tr th {\n",
       "        vertical-align: top;\n",
       "    }\n",
       "\n",
       "    .dataframe thead th {\n",
       "        text-align: right;\n",
       "    }\n",
       "</style>\n",
       "<table border=\"1\" class=\"dataframe\">\n",
       "  <thead>\n",
       "    <tr style=\"text-align: right;\">\n",
       "      <th></th>\n",
       "      <th>Mkt-RF</th>\n",
       "      <th>SMB</th>\n",
       "      <th>HML</th>\n",
       "      <th>RMW</th>\n",
       "      <th>CMA</th>\n",
       "      <th>RF</th>\n",
       "    </tr>\n",
       "    <tr>\n",
       "      <th>Date</th>\n",
       "      <th></th>\n",
       "      <th></th>\n",
       "      <th></th>\n",
       "      <th></th>\n",
       "      <th></th>\n",
       "      <th></th>\n",
       "    </tr>\n",
       "  </thead>\n",
       "  <tbody>\n",
       "    <tr>\n",
       "      <th>1963-07-31</th>\n",
       "      <td>-0.0039</td>\n",
       "      <td>-0.0044</td>\n",
       "      <td>-0.0089</td>\n",
       "      <td>0.0068</td>\n",
       "      <td>-0.0123</td>\n",
       "      <td>0.0027</td>\n",
       "    </tr>\n",
       "    <tr>\n",
       "      <th>1963-08-31</th>\n",
       "      <td>0.0507</td>\n",
       "      <td>-0.0075</td>\n",
       "      <td>0.0168</td>\n",
       "      <td>0.0036</td>\n",
       "      <td>-0.0034</td>\n",
       "      <td>0.0025</td>\n",
       "    </tr>\n",
       "    <tr>\n",
       "      <th>1963-09-30</th>\n",
       "      <td>-0.0157</td>\n",
       "      <td>-0.0055</td>\n",
       "      <td>0.0008</td>\n",
       "      <td>-0.0071</td>\n",
       "      <td>0.0029</td>\n",
       "      <td>0.0027</td>\n",
       "    </tr>\n",
       "    <tr>\n",
       "      <th>1963-10-31</th>\n",
       "      <td>0.0253</td>\n",
       "      <td>-0.0137</td>\n",
       "      <td>-0.0014</td>\n",
       "      <td>0.0280</td>\n",
       "      <td>-0.0202</td>\n",
       "      <td>0.0029</td>\n",
       "    </tr>\n",
       "    <tr>\n",
       "      <th>1963-11-30</th>\n",
       "      <td>-0.0085</td>\n",
       "      <td>-0.0089</td>\n",
       "      <td>0.0181</td>\n",
       "      <td>-0.0051</td>\n",
       "      <td>0.0231</td>\n",
       "      <td>0.0027</td>\n",
       "    </tr>\n",
       "    <tr>\n",
       "      <th>...</th>\n",
       "      <td>...</td>\n",
       "      <td>...</td>\n",
       "      <td>...</td>\n",
       "      <td>...</td>\n",
       "      <td>...</td>\n",
       "      <td>...</td>\n",
       "    </tr>\n",
       "    <tr>\n",
       "      <th>2021-12-31</th>\n",
       "      <td>0.0310</td>\n",
       "      <td>-0.0069</td>\n",
       "      <td>0.0322</td>\n",
       "      <td>0.0475</td>\n",
       "      <td>0.0436</td>\n",
       "      <td>0.0001</td>\n",
       "    </tr>\n",
       "    <tr>\n",
       "      <th>2022-01-31</th>\n",
       "      <td>-0.0625</td>\n",
       "      <td>-0.0395</td>\n",
       "      <td>0.1274</td>\n",
       "      <td>0.0073</td>\n",
       "      <td>0.0773</td>\n",
       "      <td>0.0000</td>\n",
       "    </tr>\n",
       "    <tr>\n",
       "      <th>2022-02-28</th>\n",
       "      <td>-0.0229</td>\n",
       "      <td>0.0290</td>\n",
       "      <td>0.0309</td>\n",
       "      <td>-0.0212</td>\n",
       "      <td>0.0299</td>\n",
       "      <td>0.0000</td>\n",
       "    </tr>\n",
       "    <tr>\n",
       "      <th>2022-03-31</th>\n",
       "      <td>0.0306</td>\n",
       "      <td>-0.0214</td>\n",
       "      <td>-0.0182</td>\n",
       "      <td>-0.0132</td>\n",
       "      <td>0.0324</td>\n",
       "      <td>0.0000</td>\n",
       "    </tr>\n",
       "    <tr>\n",
       "      <th>2022-04-30</th>\n",
       "      <td>-0.0944</td>\n",
       "      <td>-0.0039</td>\n",
       "      <td>0.0616</td>\n",
       "      <td>0.0351</td>\n",
       "      <td>0.0588</td>\n",
       "      <td>0.0000</td>\n",
       "    </tr>\n",
       "  </tbody>\n",
       "</table>\n",
       "<p>706 rows × 6 columns</p>\n",
       "</div>"
      ],
      "text/plain": [
       "            Mkt-RF     SMB     HML     RMW     CMA      RF\n",
       "Date                                                      \n",
       "1963-07-31 -0.0039 -0.0044 -0.0089  0.0068 -0.0123  0.0027\n",
       "1963-08-31  0.0507 -0.0075  0.0168  0.0036 -0.0034  0.0025\n",
       "1963-09-30 -0.0157 -0.0055  0.0008 -0.0071  0.0029  0.0027\n",
       "1963-10-31  0.0253 -0.0137 -0.0014  0.0280 -0.0202  0.0029\n",
       "1963-11-30 -0.0085 -0.0089  0.0181 -0.0051  0.0231  0.0027\n",
       "...            ...     ...     ...     ...     ...     ...\n",
       "2021-12-31  0.0310 -0.0069  0.0322  0.0475  0.0436  0.0001\n",
       "2022-01-31 -0.0625 -0.0395  0.1274  0.0073  0.0773  0.0000\n",
       "2022-02-28 -0.0229  0.0290  0.0309 -0.0212  0.0299  0.0000\n",
       "2022-03-31  0.0306 -0.0214 -0.0182 -0.0132  0.0324  0.0000\n",
       "2022-04-30 -0.0944 -0.0039  0.0616  0.0351  0.0588  0.0000\n",
       "\n",
       "[706 rows x 6 columns]"
      ]
     },
     "execution_count": 10,
     "metadata": {},
     "output_type": "execute_result"
    }
   ],
   "source": [
    "df_ff5_monthly = gff.famaFrench5Factor(frequency='m')\n",
    "df_ff5_monthly.rename (columns={'date_ff_factors':'Date'}, inplace=True) \n",
    "df_ff5_monthly.set_index('Date', inplace = True) \n",
    "df_ff5_monthly"
   ]
  },
  {
   "cell_type": "code",
   "execution_count": 11,
   "id": "6c1803c3",
   "metadata": {},
   "outputs": [
    {
     "data": {
      "text/plain": [
       "<AxesSubplot:xlabel='Date'>"
      ]
     },
     "execution_count": 11,
     "metadata": {},
     "output_type": "execute_result"
    },
    {
     "data": {
      "image/png": "[encoded data removed]",
      "text/plain": [
       "<Figure size 432x288 with 1 Axes>"
      ]
     },
     "metadata": {
      "needs_background": "light"
     },
     "output_type": "display_data"
    }
   ],
   "source": [
    "sns.lineplot(data=df_ff5_monthly)"
   ]
  },
  {
   "cell_type": "markdown",
   "id": "fe2cca3a",
   "metadata": {},
   "source": [
    "### Momentum Factor and carhart4Factor\n"
   ]
  },
  {
   "cell_type": "markdown",
   "id": "6871b0d5",
   "metadata": {},
   "source": [
    " Returns Fama French 3 factors (Market Risk Premium, SMB, HML), and Momentum"
   ]
  },
  {
   "cell_type": "code",
   "execution_count": 12,
   "id": "300fdc06",
   "metadata": {},
   "outputs": [
    {
     "data": {
      "text/html": [
       "<div>\n",
       "<style scoped>\n",
       "    .dataframe tbody tr th:only-of-type {\n",
       "        vertical-align: middle;\n",
       "    }\n",
       "\n",
       "    .dataframe tbody tr th {\n",
       "        vertical-align: top;\n",
       "    }\n",
       "\n",
       "    .dataframe thead th {\n",
       "        text-align: right;\n",
       "    }\n",
       "</style>\n",
       "<table border=\"1\" class=\"dataframe\">\n",
       "  <thead>\n",
       "    <tr style=\"text-align: right;\">\n",
       "      <th></th>\n",
       "      <th>Mkt-RF</th>\n",
       "      <th>SMB</th>\n",
       "      <th>HML</th>\n",
       "      <th>RF</th>\n",
       "      <th>MOM</th>\n",
       "    </tr>\n",
       "    <tr>\n",
       "      <th>Date</th>\n",
       "      <th></th>\n",
       "      <th></th>\n",
       "      <th></th>\n",
       "      <th></th>\n",
       "      <th></th>\n",
       "    </tr>\n",
       "  </thead>\n",
       "  <tbody>\n",
       "    <tr>\n",
       "      <th>1926-07-31</th>\n",
       "      <td>0.0296</td>\n",
       "      <td>-0.0238</td>\n",
       "      <td>-0.0273</td>\n",
       "      <td>0.0022</td>\n",
       "      <td>NaN</td>\n",
       "    </tr>\n",
       "    <tr>\n",
       "      <th>1926-08-31</th>\n",
       "      <td>0.0264</td>\n",
       "      <td>-0.0147</td>\n",
       "      <td>0.0414</td>\n",
       "      <td>0.0025</td>\n",
       "      <td>NaN</td>\n",
       "    </tr>\n",
       "    <tr>\n",
       "      <th>1926-09-30</th>\n",
       "      <td>0.0036</td>\n",
       "      <td>-0.0139</td>\n",
       "      <td>0.0012</td>\n",
       "      <td>0.0023</td>\n",
       "      <td>NaN</td>\n",
       "    </tr>\n",
       "    <tr>\n",
       "      <th>1926-10-31</th>\n",
       "      <td>-0.0324</td>\n",
       "      <td>-0.0013</td>\n",
       "      <td>0.0065</td>\n",
       "      <td>0.0032</td>\n",
       "      <td>NaN</td>\n",
       "    </tr>\n",
       "    <tr>\n",
       "      <th>1926-11-30</th>\n",
       "      <td>0.0253</td>\n",
       "      <td>-0.0016</td>\n",
       "      <td>-0.0038</td>\n",
       "      <td>0.0031</td>\n",
       "      <td>NaN</td>\n",
       "    </tr>\n",
       "    <tr>\n",
       "      <th>...</th>\n",
       "      <td>...</td>\n",
       "      <td>...</td>\n",
       "      <td>...</td>\n",
       "      <td>...</td>\n",
       "      <td>...</td>\n",
       "    </tr>\n",
       "    <tr>\n",
       "      <th>2021-12-31</th>\n",
       "      <td>0.0310</td>\n",
       "      <td>-0.0160</td>\n",
       "      <td>0.0322</td>\n",
       "      <td>0.0001</td>\n",
       "      <td>-0.0260</td>\n",
       "    </tr>\n",
       "    <tr>\n",
       "      <th>2022-01-31</th>\n",
       "      <td>-0.0625</td>\n",
       "      <td>-0.0593</td>\n",
       "      <td>0.1274</td>\n",
       "      <td>0.0000</td>\n",
       "      <td>-0.0250</td>\n",
       "    </tr>\n",
       "    <tr>\n",
       "      <th>2022-02-28</th>\n",
       "      <td>-0.0229</td>\n",
       "      <td>0.0218</td>\n",
       "      <td>0.0309</td>\n",
       "      <td>0.0000</td>\n",
       "      <td>0.0175</td>\n",
       "    </tr>\n",
       "    <tr>\n",
       "      <th>2022-03-31</th>\n",
       "      <td>0.0306</td>\n",
       "      <td>-0.0161</td>\n",
       "      <td>-0.0182</td>\n",
       "      <td>0.0000</td>\n",
       "      <td>0.0298</td>\n",
       "    </tr>\n",
       "    <tr>\n",
       "      <th>2022-04-30</th>\n",
       "      <td>-0.0944</td>\n",
       "      <td>-0.0140</td>\n",
       "      <td>0.0616</td>\n",
       "      <td>0.0000</td>\n",
       "      <td>0.0482</td>\n",
       "    </tr>\n",
       "  </tbody>\n",
       "</table>\n",
       "<p>1150 rows × 5 columns</p>\n",
       "</div>"
      ],
      "text/plain": [
       "            Mkt-RF     SMB     HML      RF     MOM\n",
       "Date                                              \n",
       "1926-07-31  0.0296 -0.0238 -0.0273  0.0022     NaN\n",
       "1926-08-31  0.0264 -0.0147  0.0414  0.0025     NaN\n",
       "1926-09-30  0.0036 -0.0139  0.0012  0.0023     NaN\n",
       "1926-10-31 -0.0324 -0.0013  0.0065  0.0032     NaN\n",
       "1926-11-30  0.0253 -0.0016 -0.0038  0.0031     NaN\n",
       "...            ...     ...     ...     ...     ...\n",
       "2021-12-31  0.0310 -0.0160  0.0322  0.0001 -0.0260\n",
       "2022-01-31 -0.0625 -0.0593  0.1274  0.0000 -0.0250\n",
       "2022-02-28 -0.0229  0.0218  0.0309  0.0000  0.0175\n",
       "2022-03-31  0.0306 -0.0161 -0.0182  0.0000  0.0298\n",
       "2022-04-30 -0.0944 -0.0140  0.0616  0.0000  0.0482\n",
       "\n",
       "[1150 rows x 5 columns]"
      ]
     },
     "execution_count": 12,
     "metadata": {},
     "output_type": "execute_result"
    }
   ],
   "source": [
    "df_carhart4Factor_monthly = gff.carhart4Factor(frequency='m')\n",
    "df_carhart4Factor_monthly.rename (columns={'date_ff_factors':'Date'}, inplace=True) \n",
    "df_carhart4Factor_monthly.set_index('Date', inplace = True) \n",
    "df_carhart4Factor_monthly"
   ]
  },
  {
   "cell_type": "code",
   "execution_count": 13,
   "id": "75955dc8",
   "metadata": {},
   "outputs": [
    {
     "data": {
      "text/html": [
       "<div>\n",
       "<style scoped>\n",
       "    .dataframe tbody tr th:only-of-type {\n",
       "        vertical-align: middle;\n",
       "    }\n",
       "\n",
       "    .dataframe tbody tr th {\n",
       "        vertical-align: top;\n",
       "    }\n",
       "\n",
       "    .dataframe thead th {\n",
       "        text-align: right;\n",
       "    }\n",
       "</style>\n",
       "<table border=\"1\" class=\"dataframe\">\n",
       "  <thead>\n",
       "    <tr style=\"text-align: right;\">\n",
       "      <th></th>\n",
       "      <th>MOM</th>\n",
       "    </tr>\n",
       "    <tr>\n",
       "      <th>Date</th>\n",
       "      <th></th>\n",
       "    </tr>\n",
       "  </thead>\n",
       "  <tbody>\n",
       "    <tr>\n",
       "      <th>1927-01-31</th>\n",
       "      <td>0.0036</td>\n",
       "    </tr>\n",
       "    <tr>\n",
       "      <th>1927-02-28</th>\n",
       "      <td>-0.0214</td>\n",
       "    </tr>\n",
       "    <tr>\n",
       "      <th>1927-03-31</th>\n",
       "      <td>0.0361</td>\n",
       "    </tr>\n",
       "    <tr>\n",
       "      <th>1927-04-30</th>\n",
       "      <td>0.0430</td>\n",
       "    </tr>\n",
       "    <tr>\n",
       "      <th>1927-05-31</th>\n",
       "      <td>0.0300</td>\n",
       "    </tr>\n",
       "    <tr>\n",
       "      <th>...</th>\n",
       "      <td>...</td>\n",
       "    </tr>\n",
       "    <tr>\n",
       "      <th>2021-12-31</th>\n",
       "      <td>-0.0260</td>\n",
       "    </tr>\n",
       "    <tr>\n",
       "      <th>2022-01-31</th>\n",
       "      <td>-0.0250</td>\n",
       "    </tr>\n",
       "    <tr>\n",
       "      <th>2022-02-28</th>\n",
       "      <td>0.0175</td>\n",
       "    </tr>\n",
       "    <tr>\n",
       "      <th>2022-03-31</th>\n",
       "      <td>0.0298</td>\n",
       "    </tr>\n",
       "    <tr>\n",
       "      <th>2022-04-30</th>\n",
       "      <td>0.0482</td>\n",
       "    </tr>\n",
       "  </tbody>\n",
       "</table>\n",
       "<p>1144 rows × 1 columns</p>\n",
       "</div>"
      ],
      "text/plain": [
       "               MOM\n",
       "Date              \n",
       "1927-01-31  0.0036\n",
       "1927-02-28 -0.0214\n",
       "1927-03-31  0.0361\n",
       "1927-04-30  0.0430\n",
       "1927-05-31  0.0300\n",
       "...            ...\n",
       "2021-12-31 -0.0260\n",
       "2022-01-31 -0.0250\n",
       "2022-02-28  0.0175\n",
       "2022-03-31  0.0298\n",
       "2022-04-30  0.0482\n",
       "\n",
       "[1144 rows x 1 columns]"
      ]
     },
     "execution_count": 13,
     "metadata": {},
     "output_type": "execute_result"
    }
   ],
   "source": [
    "df_momentum_monthly = gff.momentumFactor(frequency='m')\n",
    "df_momentum_monthly.rename (columns={'date_ff_factors':'Date'}, inplace=True) \n",
    "df_momentum_monthly.set_index('Date', inplace = True) \n",
    "df_momentum_monthly"
   ]
  },
  {
   "cell_type": "code",
   "execution_count": 14,
   "id": "96ed5000",
   "metadata": {},
   "outputs": [
    {
     "data": {
      "text/plain": [
       "<AxesSubplot:xlabel='Date'>"
      ]
     },
     "execution_count": 14,
     "metadata": {},
     "output_type": "execute_result"
    },
    {
     "data": {
      "image/png": "[encoded data removed]",
      "text/plain": [
       "<Figure size 432x288 with 1 Axes>"
      ]
     },
     "metadata": {
      "needs_background": "light"
     },
     "output_type": "display_data"
    }
   ],
   "source": [
    "sns.lineplot(data=df_carhart4Factor_monthly)"
   ]
  },
  {
   "cell_type": "code",
   "execution_count": 15,
   "id": "be961011",
   "metadata": {},
   "outputs": [
    {
     "data": {
      "text/plain": [
       "<AxesSubplot:xlabel='Date'>"
      ]
     },
     "execution_count": 15,
     "metadata": {},
     "output_type": "execute_result"
    },
    {
     "data": {
      "image/png": "[encoded data removed]",
      "text/plain": [
       "<Figure size 432x288 with 1 Axes>"
      ]
     },
     "metadata": {
      "needs_background": "light"
     },
     "output_type": "display_data"
    }
   ],
   "source": [
    "sns.lineplot(data=df_momentum_monthly)"
   ]
  },
  {
   "cell_type": "markdown",
   "id": "84a641b2",
   "metadata": {},
   "source": [
    "## Cost of Equity\n",
    "\n",
    "Merge the Market Data with the return of the requested stock."
   ]
  },
  {
   "cell_type": "markdown",
   "id": "7cd228fa",
   "metadata": {},
   "source": [
    "### FF3 and Expected Return"
   ]
  },
  {
   "cell_type": "code",
   "execution_count": 16,
   "id": "02b13312",
   "metadata": {},
   "outputs": [
    {
     "data": {
      "text/plain": [
       "(60, 5)"
      ]
     },
     "execution_count": 16,
     "metadata": {},
     "output_type": "execute_result"
    }
   ],
   "source": [
    "d_ff3 = ff3_monthly.merge(stock_returns, on = 'Date') \n",
    "d_ff3.head() \n",
    "d_ff3 = d_ff3.tail(60) \n",
    "d_ff3.shape"
   ]
  },
  {
   "cell_type": "markdown",
   "id": "defef7e5",
   "metadata": {},
   "source": [
    "Compute the excess return on requested stock."
   ]
  },
  {
   "cell_type": "code",
   "execution_count": 17,
   "id": "90416cea",
   "metadata": {},
   "outputs": [
    {
     "data": {
      "text/html": [
       "<div>\n",
       "<style scoped>\n",
       "    .dataframe tbody tr th:only-of-type {\n",
       "        vertical-align: middle;\n",
       "    }\n",
       "\n",
       "    .dataframe tbody tr th {\n",
       "        vertical-align: top;\n",
       "    }\n",
       "\n",
       "    .dataframe thead th {\n",
       "        text-align: right;\n",
       "    }\n",
       "</style>\n",
       "<table border=\"1\" class=\"dataframe\">\n",
       "  <thead>\n",
       "    <tr style=\"text-align: right;\">\n",
       "      <th></th>\n",
       "      <th>Mkt-RF</th>\n",
       "      <th>SMB</th>\n",
       "      <th>HML</th>\n",
       "      <th>RF</th>\n",
       "      <th>GOOG</th>\n",
       "      <th>GOOG-RF</th>\n",
       "    </tr>\n",
       "    <tr>\n",
       "      <th>Date</th>\n",
       "      <th></th>\n",
       "      <th></th>\n",
       "      <th></th>\n",
       "      <th></th>\n",
       "      <th></th>\n",
       "      <th></th>\n",
       "    </tr>\n",
       "  </thead>\n",
       "  <tbody>\n",
       "    <tr>\n",
       "      <th>2017-03-31</th>\n",
       "      <td>0.0017</td>\n",
       "      <td>0.0113</td>\n",
       "      <td>-0.0337</td>\n",
       "      <td>0.0003</td>\n",
       "      <td>0.007714</td>\n",
       "      <td>0.007414</td>\n",
       "    </tr>\n",
       "    <tr>\n",
       "      <th>2017-04-30</th>\n",
       "      <td>0.0109</td>\n",
       "      <td>0.0072</td>\n",
       "      <td>-0.0215</td>\n",
       "      <td>0.0005</td>\n",
       "      <td>0.092097</td>\n",
       "      <td>0.091597</td>\n",
       "    </tr>\n",
       "    <tr>\n",
       "      <th>2017-05-31</th>\n",
       "      <td>0.0106</td>\n",
       "      <td>-0.0255</td>\n",
       "      <td>-0.0376</td>\n",
       "      <td>0.0006</td>\n",
       "      <td>0.065014</td>\n",
       "      <td>0.064414</td>\n",
       "    </tr>\n",
       "    <tr>\n",
       "      <th>2017-06-30</th>\n",
       "      <td>0.0078</td>\n",
       "      <td>0.0224</td>\n",
       "      <td>0.0148</td>\n",
       "      <td>0.0006</td>\n",
       "      <td>-0.058174</td>\n",
       "      <td>-0.058774</td>\n",
       "    </tr>\n",
       "    <tr>\n",
       "      <th>2017-07-31</th>\n",
       "      <td>0.0187</td>\n",
       "      <td>-0.0146</td>\n",
       "      <td>-0.0022</td>\n",
       "      <td>0.0007</td>\n",
       "      <td>0.023957</td>\n",
       "      <td>0.023257</td>\n",
       "    </tr>\n",
       "  </tbody>\n",
       "</table>\n",
       "</div>"
      ],
      "text/plain": [
       "            Mkt-RF     SMB     HML      RF      GOOG   GOOG-RF\n",
       "Date                                                          \n",
       "2017-03-31  0.0017  0.0113 -0.0337  0.0003  0.007714  0.007414\n",
       "2017-04-30  0.0109  0.0072 -0.0215  0.0005  0.092097  0.091597\n",
       "2017-05-31  0.0106 -0.0255 -0.0376  0.0006  0.065014  0.064414\n",
       "2017-06-30  0.0078  0.0224  0.0148  0.0006 -0.058174 -0.058774\n",
       "2017-07-31  0.0187 -0.0146 -0.0022  0.0007  0.023957  0.023257"
      ]
     },
     "execution_count": 17,
     "metadata": {},
     "output_type": "execute_result"
    }
   ],
   "source": [
    "e_excess_return = d_ff3['GOOG'] - d_ff3['RF'] \n",
    "d_ff3['GOOG-RF'] = e_excess_return \n",
    "d_ff3.head() "
   ]
  },
  {
   "cell_type": "markdown",
   "id": "2bfdbf8e",
   "metadata": {},
   "source": [
    "Setup the regression and fit FF3 to the model."
   ]
  },
  {
   "cell_type": "code",
   "execution_count": 18,
   "id": "4be35e0a",
   "metadata": {},
   "outputs": [
    {
     "data": {
      "text/html": [
       "<table class=\"simpletable\">\n",
       "<caption>OLS Regression Results</caption>\n",
       "<tr>\n",
       "  <th>Dep. Variable:</th>         <td>GOOG-RF</td>     <th>  R-squared:         </th> <td>   0.540</td>\n",
       "</tr>\n",
       "<tr>\n",
       "  <th>Model:</th>                   <td>OLS</td>       <th>  Adj. R-squared:    </th> <td>   0.515</td>\n",
       "</tr>\n",
       "<tr>\n",
       "  <th>Method:</th>             <td>Least Squares</td>  <th>  F-statistic:       </th> <td>   21.91</td>\n",
       "</tr>\n",
       "<tr>\n",
       "  <th>Date:</th>             <td>Fri, 17 Jun 2022</td> <th>  Prob (F-statistic):</th> <td>1.63e-09</td>\n",
       "</tr>\n",
       "<tr>\n",
       "  <th>Time:</th>                 <td>14:07:48</td>     <th>  Log-Likelihood:    </th> <td>  102.16</td>\n",
       "</tr>\n",
       "<tr>\n",
       "  <th>No. Observations:</th>      <td>    60</td>      <th>  AIC:               </th> <td>  -196.3</td>\n",
       "</tr>\n",
       "<tr>\n",
       "  <th>Df Residuals:</th>          <td>    56</td>      <th>  BIC:               </th> <td>  -187.9</td>\n",
       "</tr>\n",
       "<tr>\n",
       "  <th>Df Model:</th>              <td>     3</td>      <th>                     </th>     <td> </td>   \n",
       "</tr>\n",
       "<tr>\n",
       "  <th>Covariance Type:</th>      <td>nonrobust</td>    <th>                     </th>     <td> </td>   \n",
       "</tr>\n",
       "</table>\n",
       "<table class=\"simpletable\">\n",
       "<tr>\n",
       "     <td></td>       <th>coef</th>     <th>std err</th>      <th>t</th>      <th>P>|t|</th>  <th>[0.025</th>    <th>0.975]</th>  \n",
       "</tr>\n",
       "<tr>\n",
       "  <th>const</th>  <td>    0.0093</td> <td>    0.006</td> <td>    1.509</td> <td> 0.137</td> <td>   -0.003</td> <td>    0.022</td>\n",
       "</tr>\n",
       "<tr>\n",
       "  <th>Mkt-RF</th> <td>    1.0532</td> <td>    0.132</td> <td>    7.959</td> <td> 0.000</td> <td>    0.788</td> <td>    1.318</td>\n",
       "</tr>\n",
       "<tr>\n",
       "  <th>SMB</th>    <td>   -0.2856</td> <td>    0.227</td> <td>   -1.258</td> <td> 0.214</td> <td>   -0.741</td> <td>    0.169</td>\n",
       "</tr>\n",
       "<tr>\n",
       "  <th>HML</th>    <td>    0.0002</td> <td>    0.147</td> <td>    0.001</td> <td> 0.999</td> <td>   -0.295</td> <td>    0.296</td>\n",
       "</tr>\n",
       "</table>\n",
       "<table class=\"simpletable\">\n",
       "<tr>\n",
       "  <th>Omnibus:</th>       <td> 4.484</td> <th>  Durbin-Watson:     </th> <td>   2.428</td>\n",
       "</tr>\n",
       "<tr>\n",
       "  <th>Prob(Omnibus):</th> <td> 0.106</td> <th>  Jarque-Bera (JB):  </th> <td>   3.598</td>\n",
       "</tr>\n",
       "<tr>\n",
       "  <th>Skew:</th>          <td> 0.572</td> <th>  Prob(JB):          </th> <td>   0.165</td>\n",
       "</tr>\n",
       "<tr>\n",
       "  <th>Kurtosis:</th>      <td> 3.363</td> <th>  Cond. No.          </th> <td>    39.5</td>\n",
       "</tr>\n",
       "</table><br/><br/>Notes:<br/>[1] Standard Errors assume that the covariance matrix of the errors is correctly specified."
      ],
      "text/plain": [
       "<class 'statsmodels.iolib.summary.Summary'>\n",
       "\"\"\"\n",
       "                            OLS Regression Results                            \n",
       "==============================================================================\n",
       "Dep. Variable:                GOOG-RF   R-squared:                       0.540\n",
       "Model:                            OLS   Adj. R-squared:                  0.515\n",
       "Method:                 Least Squares   F-statistic:                     21.91\n",
       "Date:                Fri, 17 Jun 2022   Prob (F-statistic):           1.63e-09\n",
       "Time:                        14:07:48   Log-Likelihood:                 102.16\n",
       "No. Observations:                  60   AIC:                            -196.3\n",
       "Df Residuals:                      56   BIC:                            -187.9\n",
       "Df Model:                           3                                         \n",
       "Covariance Type:            nonrobust                                         \n",
       "==============================================================================\n",
       "                 coef    std err          t      P>|t|      [0.025      0.975]\n",
       "------------------------------------------------------------------------------\n",
       "const          0.0093      0.006      1.509      0.137      -0.003       0.022\n",
       "Mkt-RF         1.0532      0.132      7.959      0.000       0.788       1.318\n",
       "SMB           -0.2856      0.227     -1.258      0.214      -0.741       0.169\n",
       "HML            0.0002      0.147      0.001      0.999      -0.295       0.296\n",
       "==============================================================================\n",
       "Omnibus:                        4.484   Durbin-Watson:                   2.428\n",
       "Prob(Omnibus):                  0.106   Jarque-Bera (JB):                3.598\n",
       "Skew:                           0.572   Prob(JB):                        0.165\n",
       "Kurtosis:                       3.363   Cond. No.                         39.5\n",
       "==============================================================================\n",
       "\n",
       "Notes:\n",
       "[1] Standard Errors assume that the covariance matrix of the errors is correctly specified.\n",
       "\"\"\""
      ]
     },
     "execution_count": 18,
     "metadata": {},
     "output_type": "execute_result"
    }
   ],
   "source": [
    "X = d_ff3[['Mkt-RF', 'SMB', 'HML']] \n",
    "y = d_ff3[ 'GOOG-RF' ] \n",
    "\n",
    "X1 = sm.add_constant(X) \n",
    "\n",
    "#constant \n",
    "model = sm.OLS(y, X1) \n",
    " \n",
    "results = model.fit()\n",
    "results.summary()"
   ]
  },
  {
   "cell_type": "code",
   "execution_count": 20,
   "id": "606b34c8",
   "metadata": {},
   "outputs": [
    {
     "name": "stdout",
     "output_type": "stream",
     "text": [
      "1.0531819475412023 -0.2856188931900203 0.00017125439061219105\n"
     ]
    }
   ],
   "source": [
    "intercept, ff3_beta_m, ff3_beta_s, ff3_beta_v = results.params \n",
    "print(ff3_beta_m, ff3_beta_s, ff3_beta_v) "
   ]
  },
  {
   "cell_type": "code",
   "execution_count": 21,
   "id": "a120ce57",
   "metadata": {},
   "outputs": [
    {
     "name": "stdout",
     "output_type": "stream",
     "text": [
      "0.0008466666666666671 0.011993333333333337 -0.00039166666666666587 -0.003793333333333331\n"
     ]
    }
   ],
   "source": [
    "ff3_risk_free = d_ff3['RF'].mean()\n",
    "ff3_market_premium = d_ff3['Mkt-RF'].mean()\n",
    "ff3_size_premium = d_ff3['SMB'].mean()\n",
    "ff3_value_premium = d_ff3['HML'].mean()\n",
    "print (ff3_risk_free, ff3_market_premium, ff3_size_premium, ff3_value_premium)"
   ]
  },
  {
   "cell_type": "code",
   "execution_count": 22,
   "id": "491b2eda",
   "metadata": {},
   "outputs": [
    {
     "data": {
      "text/plain": [
       "0.1630685591882623"
      ]
     },
     "execution_count": 22,
     "metadata": {},
     "output_type": "execute_result"
    }
   ],
   "source": [
    "r_ff3_exp_return = ff3_risk_free + ff3_beta_m*ff3_market_premium + ff3_beta_s*ff3_size_premium + ff3_beta_v * ff3_value_premium\n",
    "#yearly return \n",
    "r_ff3_exp_return = r_ff3_exp_return * 12\n",
    "r_ff3_exp_return "
   ]
  },
  {
   "cell_type": "markdown",
   "id": "de5e1655",
   "metadata": {},
   "source": [
    "### FF5\n",
    "\n",
    "Returns Fama French 5 factors (Market Risk Premium, SMB, HML, RMW, CMA), and the risk-free rate (RF)"
   ]
  },
  {
   "cell_type": "code",
   "execution_count": 23,
   "id": "275561ca",
   "metadata": {},
   "outputs": [
    {
     "data": {
      "text/plain": [
       "(60, 7)"
      ]
     },
     "execution_count": 23,
     "metadata": {},
     "output_type": "execute_result"
    }
   ],
   "source": [
    "d_ff5 = df_ff5_monthly.merge(stock_returns, on = 'Date') \n",
    "d_ff5.head() \n",
    "d_ff5 = d_ff5.tail(60) \n",
    "d_ff5.shape"
   ]
  },
  {
   "cell_type": "markdown",
   "id": "b85fb13d",
   "metadata": {},
   "source": [
    "Compute the excess return on requested stock."
   ]
  },
  {
   "cell_type": "code",
   "execution_count": 24,
   "id": "17aef6e2",
   "metadata": {},
   "outputs": [
    {
     "data": {
      "text/html": [
       "<div>\n",
       "<style scoped>\n",
       "    .dataframe tbody tr th:only-of-type {\n",
       "        vertical-align: middle;\n",
       "    }\n",
       "\n",
       "    .dataframe tbody tr th {\n",
       "        vertical-align: top;\n",
       "    }\n",
       "\n",
       "    .dataframe thead th {\n",
       "        text-align: right;\n",
       "    }\n",
       "</style>\n",
       "<table border=\"1\" class=\"dataframe\">\n",
       "  <thead>\n",
       "    <tr style=\"text-align: right;\">\n",
       "      <th></th>\n",
       "      <th>Mkt-RF</th>\n",
       "      <th>SMB</th>\n",
       "      <th>HML</th>\n",
       "      <th>RMW</th>\n",
       "      <th>CMA</th>\n",
       "      <th>RF</th>\n",
       "      <th>GOOG</th>\n",
       "      <th>GOOG-RF</th>\n",
       "    </tr>\n",
       "    <tr>\n",
       "      <th>Date</th>\n",
       "      <th></th>\n",
       "      <th></th>\n",
       "      <th></th>\n",
       "      <th></th>\n",
       "      <th></th>\n",
       "      <th></th>\n",
       "      <th></th>\n",
       "      <th></th>\n",
       "    </tr>\n",
       "  </thead>\n",
       "  <tbody>\n",
       "    <tr>\n",
       "      <th>2017-03-31</th>\n",
       "      <td>0.0017</td>\n",
       "      <td>0.0074</td>\n",
       "      <td>-0.0337</td>\n",
       "      <td>0.0063</td>\n",
       "      <td>-0.0094</td>\n",
       "      <td>0.0003</td>\n",
       "      <td>0.007714</td>\n",
       "      <td>0.007414</td>\n",
       "    </tr>\n",
       "    <tr>\n",
       "      <th>2017-04-30</th>\n",
       "      <td>0.0109</td>\n",
       "      <td>0.0047</td>\n",
       "      <td>-0.0215</td>\n",
       "      <td>0.0191</td>\n",
       "      <td>-0.0161</td>\n",
       "      <td>0.0005</td>\n",
       "      <td>0.092097</td>\n",
       "      <td>0.091597</td>\n",
       "    </tr>\n",
       "    <tr>\n",
       "      <th>2017-05-31</th>\n",
       "      <td>0.0106</td>\n",
       "      <td>-0.0304</td>\n",
       "      <td>-0.0376</td>\n",
       "      <td>0.0095</td>\n",
       "      <td>-0.0179</td>\n",
       "      <td>0.0006</td>\n",
       "      <td>0.065014</td>\n",
       "      <td>0.064414</td>\n",
       "    </tr>\n",
       "    <tr>\n",
       "      <th>2017-06-30</th>\n",
       "      <td>0.0078</td>\n",
       "      <td>0.0257</td>\n",
       "      <td>0.0148</td>\n",
       "      <td>-0.0226</td>\n",
       "      <td>0.0000</td>\n",
       "      <td>0.0006</td>\n",
       "      <td>-0.058174</td>\n",
       "      <td>-0.058774</td>\n",
       "    </tr>\n",
       "    <tr>\n",
       "      <th>2017-07-31</th>\n",
       "      <td>0.0187</td>\n",
       "      <td>-0.0162</td>\n",
       "      <td>-0.0022</td>\n",
       "      <td>-0.0059</td>\n",
       "      <td>-0.0016</td>\n",
       "      <td>0.0007</td>\n",
       "      <td>0.023957</td>\n",
       "      <td>0.023257</td>\n",
       "    </tr>\n",
       "  </tbody>\n",
       "</table>\n",
       "</div>"
      ],
      "text/plain": [
       "            Mkt-RF     SMB     HML     RMW     CMA      RF      GOOG   GOOG-RF\n",
       "Date                                                                          \n",
       "2017-03-31  0.0017  0.0074 -0.0337  0.0063 -0.0094  0.0003  0.007714  0.007414\n",
       "2017-04-30  0.0109  0.0047 -0.0215  0.0191 -0.0161  0.0005  0.092097  0.091597\n",
       "2017-05-31  0.0106 -0.0304 -0.0376  0.0095 -0.0179  0.0006  0.065014  0.064414\n",
       "2017-06-30  0.0078  0.0257  0.0148 -0.0226  0.0000  0.0006 -0.058174 -0.058774\n",
       "2017-07-31  0.0187 -0.0162 -0.0022 -0.0059 -0.0016  0.0007  0.023957  0.023257"
      ]
     },
     "execution_count": 24,
     "metadata": {},
     "output_type": "execute_result"
    }
   ],
   "source": [
    "e_excess_return = d_ff5['GOOG'] - d_ff5['RF'] \n",
    "d_ff5['GOOG-RF'] = e_excess_return \n",
    "d_ff5.head() "
   ]
  },
  {
   "cell_type": "markdown",
   "id": "6bcd4ec0",
   "metadata": {},
   "source": [
    "Setup the regression and fit the model."
   ]
  },
  {
   "cell_type": "code",
   "execution_count": 25,
   "id": "037e59a1",
   "metadata": {},
   "outputs": [
    {
     "data": {
      "text/html": [
       "<table class=\"simpletable\">\n",
       "<caption>OLS Regression Results</caption>\n",
       "<tr>\n",
       "  <th>Dep. Variable:</th>         <td>GOOG-RF</td>     <th>  R-squared:         </th> <td>   0.575</td>\n",
       "</tr>\n",
       "<tr>\n",
       "  <th>Model:</th>                   <td>OLS</td>       <th>  Adj. R-squared:    </th> <td>   0.535</td>\n",
       "</tr>\n",
       "<tr>\n",
       "  <th>Method:</th>             <td>Least Squares</td>  <th>  F-statistic:       </th> <td>   14.59</td>\n",
       "</tr>\n",
       "<tr>\n",
       "  <th>Date:</th>             <td>Fri, 17 Jun 2022</td> <th>  Prob (F-statistic):</th> <td>4.84e-09</td>\n",
       "</tr>\n",
       "<tr>\n",
       "  <th>Time:</th>                 <td>14:08:31</td>     <th>  Log-Likelihood:    </th> <td>  104.51</td>\n",
       "</tr>\n",
       "<tr>\n",
       "  <th>No. Observations:</th>      <td>    60</td>      <th>  AIC:               </th> <td>  -197.0</td>\n",
       "</tr>\n",
       "<tr>\n",
       "  <th>Df Residuals:</th>          <td>    54</td>      <th>  BIC:               </th> <td>  -184.5</td>\n",
       "</tr>\n",
       "<tr>\n",
       "  <th>Df Model:</th>              <td>     5</td>      <th>                     </th>     <td> </td>   \n",
       "</tr>\n",
       "<tr>\n",
       "  <th>Covariance Type:</th>      <td>nonrobust</td>    <th>                     </th>     <td> </td>   \n",
       "</tr>\n",
       "</table>\n",
       "<table class=\"simpletable\">\n",
       "<tr>\n",
       "     <td></td>       <th>coef</th>     <th>std err</th>      <th>t</th>      <th>P>|t|</th>  <th>[0.025</th>    <th>0.975]</th>  \n",
       "</tr>\n",
       "<tr>\n",
       "  <th>const</th>  <td>    0.0117</td> <td>    0.006</td> <td>    1.900</td> <td> 0.063</td> <td>   -0.001</td> <td>    0.024</td>\n",
       "</tr>\n",
       "<tr>\n",
       "  <th>Mkt-RF</th> <td>    0.9813</td> <td>    0.153</td> <td>    6.432</td> <td> 0.000</td> <td>    0.675</td> <td>    1.287</td>\n",
       "</tr>\n",
       "<tr>\n",
       "  <th>SMB</th>    <td>   -0.3796</td> <td>    0.268</td> <td>   -1.414</td> <td> 0.163</td> <td>   -0.918</td> <td>    0.159</td>\n",
       "</tr>\n",
       "<tr>\n",
       "  <th>HML</th>    <td>    0.3327</td> <td>    0.206</td> <td>    1.614</td> <td> 0.112</td> <td>   -0.080</td> <td>    0.746</td>\n",
       "</tr>\n",
       "<tr>\n",
       "  <th>RMW</th>    <td>   -0.1038</td> <td>    0.336</td> <td>   -0.309</td> <td> 0.759</td> <td>   -0.778</td> <td>    0.570</td>\n",
       "</tr>\n",
       "<tr>\n",
       "  <th>CMA</th>    <td>   -0.7458</td> <td>    0.363</td> <td>   -2.054</td> <td> 0.045</td> <td>   -1.474</td> <td>   -0.018</td>\n",
       "</tr>\n",
       "</table>\n",
       "<table class=\"simpletable\">\n",
       "<tr>\n",
       "  <th>Omnibus:</th>       <td> 1.571</td> <th>  Durbin-Watson:     </th> <td>   2.390</td>\n",
       "</tr>\n",
       "<tr>\n",
       "  <th>Prob(Omnibus):</th> <td> 0.456</td> <th>  Jarque-Bera (JB):  </th> <td>   1.009</td>\n",
       "</tr>\n",
       "<tr>\n",
       "  <th>Skew:</th>          <td> 0.304</td> <th>  Prob(JB):          </th> <td>   0.604</td>\n",
       "</tr>\n",
       "<tr>\n",
       "  <th>Kurtosis:</th>      <td> 3.185</td> <th>  Cond. No.          </th> <td>    71.1</td>\n",
       "</tr>\n",
       "</table><br/><br/>Notes:<br/>[1] Standard Errors assume that the covariance matrix of the errors is correctly specified."
      ],
      "text/plain": [
       "<class 'statsmodels.iolib.summary.Summary'>\n",
       "\"\"\"\n",
       "                            OLS Regression Results                            \n",
       "==============================================================================\n",
       "Dep. Variable:                GOOG-RF   R-squared:                       0.575\n",
       "Model:                            OLS   Adj. R-squared:                  0.535\n",
       "Method:                 Least Squares   F-statistic:                     14.59\n",
       "Date:                Fri, 17 Jun 2022   Prob (F-statistic):           4.84e-09\n",
       "Time:                        14:08:31   Log-Likelihood:                 104.51\n",
       "No. Observations:                  60   AIC:                            -197.0\n",
       "Df Residuals:                      54   BIC:                            -184.5\n",
       "Df Model:                           5                                         \n",
       "Covariance Type:            nonrobust                                         \n",
       "==============================================================================\n",
       "                 coef    std err          t      P>|t|      [0.025      0.975]\n",
       "------------------------------------------------------------------------------\n",
       "const          0.0117      0.006      1.900      0.063      -0.001       0.024\n",
       "Mkt-RF         0.9813      0.153      6.432      0.000       0.675       1.287\n",
       "SMB           -0.3796      0.268     -1.414      0.163      -0.918       0.159\n",
       "HML            0.3327      0.206      1.614      0.112      -0.080       0.746\n",
       "RMW           -0.1038      0.336     -0.309      0.759      -0.778       0.570\n",
       "CMA           -0.7458      0.363     -2.054      0.045      -1.474      -0.018\n",
       "==============================================================================\n",
       "Omnibus:                        1.571   Durbin-Watson:                   2.390\n",
       "Prob(Omnibus):                  0.456   Jarque-Bera (JB):                1.009\n",
       "Skew:                           0.304   Prob(JB):                        0.604\n",
       "Kurtosis:                       3.185   Cond. No.                         71.1\n",
       "==============================================================================\n",
       "\n",
       "Notes:\n",
       "[1] Standard Errors assume that the covariance matrix of the errors is correctly specified.\n",
       "\"\"\""
      ]
     },
     "execution_count": 25,
     "metadata": {},
     "output_type": "execute_result"
    }
   ],
   "source": [
    "X = d_ff5[['Mkt-RF', 'SMB', 'HML', 'RMW', 'CMA']] \n",
    "y = d_ff5[ 'GOOG-RF' ] \n",
    "\n",
    "X1 = sm.add_constant(X) \n",
    "\n",
    "#constant \n",
    "model = sm.OLS(y, X1) \n",
    " \n",
    "results = model.fit()\n",
    "results.summary()"
   ]
  },
  {
   "cell_type": "markdown",
   "id": "9ec0ad1a",
   "metadata": {},
   "source": [
    "Save the results in the model."
   ]
  },
  {
   "cell_type": "code",
   "execution_count": 29,
   "id": "e29f0eb3",
   "metadata": {},
   "outputs": [
    {
     "name": "stdout",
     "output_type": "stream",
     "text": [
      "0.9812775895888065 -0.37961646132727594 0.33271173068243043 -0.10378350087255822 -0.7457876511970764\n"
     ]
    }
   ],
   "source": [
    "intercept, ff5_beta_m, ff5_beta_s, ff5_beta_v, ff5_beta_rw, ff5_beta_lh = results.params \n",
    "print(ff5_beta_m, ff5_beta_s, ff5_beta_v, ff5_beta_rw, ff5_beta_lh) "
   ]
  },
  {
   "cell_type": "code",
   "execution_count": 30,
   "id": "250b1438",
   "metadata": {},
   "outputs": [
    {
     "name": "stdout",
     "output_type": "stream",
     "text": [
      "0.0008466666666666671 0.011993333333333337 -0.0010516666666666673 -0.003793333333333331 0.004091666666666666 0.00026833333333333326\n"
     ]
    }
   ],
   "source": [
    "ff5_risk_free = d_ff5['RF'].mean()\n",
    "ff5_market_premium = d_ff5['Mkt-RF'].mean()\n",
    "ff5_size_premium = d_ff5['SMB'].mean()\n",
    "ff5_value_premium = d_ff5['HML'].mean()\n",
    "ff5_robust_premium = d_ff5['RMW'].mean()\n",
    "ff5_conservative_premium = d_ff5['CMA'].mean()\n",
    "print (ff5_risk_free, ff5_market_premium, ff5_size_premium, ff5_value_premium, ff5_robust_premium, ff5_conservative_premium)"
   ]
  },
  {
   "cell_type": "code",
   "execution_count": 31,
   "id": "38064760",
   "metadata": {},
   "outputs": [
    {
     "data": {
      "text/plain": [
       "0.13353398632520988"
      ]
     },
     "execution_count": 31,
     "metadata": {},
     "output_type": "execute_result"
    }
   ],
   "source": [
    "r_ff5_exp_return = ff5_risk_free + ff5_beta_m*ff5_market_premium + ff5_beta_s*ff5_size_premium + ff5_beta_v * ff5_value_premium + ff5_beta_rw*ff5_robust_premium + ff5_beta_lh * ff5_conservative_premium\n",
    "#yearly return \n",
    "r_ff5_exp_return = r_ff5_exp_return * 12\n",
    "r_ff5_exp_return "
   ]
  },
  {
   "cell_type": "markdown",
   "id": "28a741e7",
   "metadata": {},
   "source": [
    "### carhart4Factor (FF3 and Momentum)"
   ]
  },
  {
   "cell_type": "code",
   "execution_count": 32,
   "id": "25dc76e6",
   "metadata": {},
   "outputs": [
    {
     "data": {
      "text/plain": [
       "(60, 6)"
      ]
     },
     "execution_count": 32,
     "metadata": {},
     "output_type": "execute_result"
    }
   ],
   "source": [
    "d_c4 = df_carhart4Factor_monthly.merge(stock_returns, on = 'Date') \n",
    "d_c4.head() \n",
    "d_c4 = d_c4.tail(60) \n",
    "d_c4.shape"
   ]
  },
  {
   "cell_type": "code",
   "execution_count": 33,
   "id": "e867c638",
   "metadata": {},
   "outputs": [
    {
     "data": {
      "text/html": [
       "<div>\n",
       "<style scoped>\n",
       "    .dataframe tbody tr th:only-of-type {\n",
       "        vertical-align: middle;\n",
       "    }\n",
       "\n",
       "    .dataframe tbody tr th {\n",
       "        vertical-align: top;\n",
       "    }\n",
       "\n",
       "    .dataframe thead th {\n",
       "        text-align: right;\n",
       "    }\n",
       "</style>\n",
       "<table border=\"1\" class=\"dataframe\">\n",
       "  <thead>\n",
       "    <tr style=\"text-align: right;\">\n",
       "      <th></th>\n",
       "      <th>Mkt-RF</th>\n",
       "      <th>SMB</th>\n",
       "      <th>HML</th>\n",
       "      <th>RF</th>\n",
       "      <th>MOM</th>\n",
       "      <th>GOOG</th>\n",
       "      <th>GOOG-RF</th>\n",
       "    </tr>\n",
       "    <tr>\n",
       "      <th>Date</th>\n",
       "      <th></th>\n",
       "      <th></th>\n",
       "      <th></th>\n",
       "      <th></th>\n",
       "      <th></th>\n",
       "      <th></th>\n",
       "      <th></th>\n",
       "    </tr>\n",
       "  </thead>\n",
       "  <tbody>\n",
       "    <tr>\n",
       "      <th>2017-03-31</th>\n",
       "      <td>0.0017</td>\n",
       "      <td>0.0113</td>\n",
       "      <td>-0.0337</td>\n",
       "      <td>0.0003</td>\n",
       "      <td>-0.0102</td>\n",
       "      <td>0.007714</td>\n",
       "      <td>0.007414</td>\n",
       "    </tr>\n",
       "    <tr>\n",
       "      <th>2017-04-30</th>\n",
       "      <td>0.0109</td>\n",
       "      <td>0.0072</td>\n",
       "      <td>-0.0215</td>\n",
       "      <td>0.0005</td>\n",
       "      <td>0.0048</td>\n",
       "      <td>0.092097</td>\n",
       "      <td>0.091597</td>\n",
       "    </tr>\n",
       "    <tr>\n",
       "      <th>2017-05-31</th>\n",
       "      <td>0.0106</td>\n",
       "      <td>-0.0255</td>\n",
       "      <td>-0.0376</td>\n",
       "      <td>0.0006</td>\n",
       "      <td>0.0148</td>\n",
       "      <td>0.065014</td>\n",
       "      <td>0.064414</td>\n",
       "    </tr>\n",
       "    <tr>\n",
       "      <th>2017-06-30</th>\n",
       "      <td>0.0078</td>\n",
       "      <td>0.0224</td>\n",
       "      <td>0.0148</td>\n",
       "      <td>0.0006</td>\n",
       "      <td>-0.0009</td>\n",
       "      <td>-0.058174</td>\n",
       "      <td>-0.058774</td>\n",
       "    </tr>\n",
       "    <tr>\n",
       "      <th>2017-07-31</th>\n",
       "      <td>0.0187</td>\n",
       "      <td>-0.0146</td>\n",
       "      <td>-0.0022</td>\n",
       "      <td>0.0007</td>\n",
       "      <td>0.0162</td>\n",
       "      <td>0.023957</td>\n",
       "      <td>0.023257</td>\n",
       "    </tr>\n",
       "  </tbody>\n",
       "</table>\n",
       "</div>"
      ],
      "text/plain": [
       "            Mkt-RF     SMB     HML      RF     MOM      GOOG   GOOG-RF\n",
       "Date                                                                  \n",
       "2017-03-31  0.0017  0.0113 -0.0337  0.0003 -0.0102  0.007714  0.007414\n",
       "2017-04-30  0.0109  0.0072 -0.0215  0.0005  0.0048  0.092097  0.091597\n",
       "2017-05-31  0.0106 -0.0255 -0.0376  0.0006  0.0148  0.065014  0.064414\n",
       "2017-06-30  0.0078  0.0224  0.0148  0.0006 -0.0009 -0.058174 -0.058774\n",
       "2017-07-31  0.0187 -0.0146 -0.0022  0.0007  0.0162  0.023957  0.023257"
      ]
     },
     "execution_count": 33,
     "metadata": {},
     "output_type": "execute_result"
    }
   ],
   "source": [
    "e_excess_return = d_c4['GOOG'] - d_c4['RF'] \n",
    "d_c4['GOOG-RF'] = e_excess_return \n",
    "d_c4.head() "
   ]
  },
  {
   "cell_type": "code",
   "execution_count": 34,
   "id": "7d82a3ac",
   "metadata": {},
   "outputs": [
    {
     "data": {
      "text/html": [
       "<table class=\"simpletable\">\n",
       "<caption>OLS Regression Results</caption>\n",
       "<tr>\n",
       "  <th>Dep. Variable:</th>         <td>GOOG-RF</td>     <th>  R-squared:         </th> <td>   0.548</td>\n",
       "</tr>\n",
       "<tr>\n",
       "  <th>Model:</th>                   <td>OLS</td>       <th>  Adj. R-squared:    </th> <td>   0.515</td>\n",
       "</tr>\n",
       "<tr>\n",
       "  <th>Method:</th>             <td>Least Squares</td>  <th>  F-statistic:       </th> <td>   16.69</td>\n",
       "</tr>\n",
       "<tr>\n",
       "  <th>Date:</th>             <td>Fri, 17 Jun 2022</td> <th>  Prob (F-statistic):</th> <td>5.20e-09</td>\n",
       "</tr>\n",
       "<tr>\n",
       "  <th>Time:</th>                 <td>14:08:48</td>     <th>  Log-Likelihood:    </th> <td>  102.70</td>\n",
       "</tr>\n",
       "<tr>\n",
       "  <th>No. Observations:</th>      <td>    60</td>      <th>  AIC:               </th> <td>  -195.4</td>\n",
       "</tr>\n",
       "<tr>\n",
       "  <th>Df Residuals:</th>          <td>    55</td>      <th>  BIC:               </th> <td>  -184.9</td>\n",
       "</tr>\n",
       "<tr>\n",
       "  <th>Df Model:</th>              <td>     4</td>      <th>                     </th>     <td> </td>   \n",
       "</tr>\n",
       "<tr>\n",
       "  <th>Covariance Type:</th>      <td>nonrobust</td>    <th>                     </th>     <td> </td>   \n",
       "</tr>\n",
       "</table>\n",
       "<table class=\"simpletable\">\n",
       "<tr>\n",
       "     <td></td>       <th>coef</th>     <th>std err</th>      <th>t</th>      <th>P>|t|</th>  <th>[0.025</th>    <th>0.975]</th>  \n",
       "</tr>\n",
       "<tr>\n",
       "  <th>const</th>  <td>    0.0086</td> <td>    0.006</td> <td>    1.393</td> <td> 0.169</td> <td>   -0.004</td> <td>    0.021</td>\n",
       "</tr>\n",
       "<tr>\n",
       "  <th>Mkt-RF</th> <td>    1.1087</td> <td>    0.143</td> <td>    7.732</td> <td> 0.000</td> <td>    0.821</td> <td>    1.396</td>\n",
       "</tr>\n",
       "<tr>\n",
       "  <th>SMB</th>    <td>   -0.2398</td> <td>    0.232</td> <td>   -1.035</td> <td> 0.305</td> <td>   -0.704</td> <td>    0.224</td>\n",
       "</tr>\n",
       "<tr>\n",
       "  <th>HML</th>    <td>    0.0951</td> <td>    0.175</td> <td>    0.543</td> <td> 0.589</td> <td>   -0.256</td> <td>    0.446</td>\n",
       "</tr>\n",
       "<tr>\n",
       "  <th>MOM</th>    <td>    0.2006</td> <td>    0.200</td> <td>    1.004</td> <td> 0.320</td> <td>   -0.200</td> <td>    0.601</td>\n",
       "</tr>\n",
       "</table>\n",
       "<table class=\"simpletable\">\n",
       "<tr>\n",
       "  <th>Omnibus:</th>       <td> 4.605</td> <th>  Durbin-Watson:     </th> <td>   2.366</td>\n",
       "</tr>\n",
       "<tr>\n",
       "  <th>Prob(Omnibus):</th> <td> 0.100</td> <th>  Jarque-Bera (JB):  </th> <td>   3.652</td>\n",
       "</tr>\n",
       "<tr>\n",
       "  <th>Skew:</th>          <td> 0.559</td> <th>  Prob(JB):          </th> <td>   0.161</td>\n",
       "</tr>\n",
       "<tr>\n",
       "  <th>Kurtosis:</th>      <td> 3.458</td> <th>  Cond. No.          </th> <td>    42.9</td>\n",
       "</tr>\n",
       "</table><br/><br/>Notes:<br/>[1] Standard Errors assume that the covariance matrix of the errors is correctly specified."
      ],
      "text/plain": [
       "<class 'statsmodels.iolib.summary.Summary'>\n",
       "\"\"\"\n",
       "                            OLS Regression Results                            \n",
       "==============================================================================\n",
       "Dep. Variable:                GOOG-RF   R-squared:                       0.548\n",
       "Model:                            OLS   Adj. R-squared:                  0.515\n",
       "Method:                 Least Squares   F-statistic:                     16.69\n",
       "Date:                Fri, 17 Jun 2022   Prob (F-statistic):           5.20e-09\n",
       "Time:                        14:08:48   Log-Likelihood:                 102.70\n",
       "No. Observations:                  60   AIC:                            -195.4\n",
       "Df Residuals:                      55   BIC:                            -184.9\n",
       "Df Model:                           4                                         \n",
       "Covariance Type:            nonrobust                                         \n",
       "==============================================================================\n",
       "                 coef    std err          t      P>|t|      [0.025      0.975]\n",
       "------------------------------------------------------------------------------\n",
       "const          0.0086      0.006      1.393      0.169      -0.004       0.021\n",
       "Mkt-RF         1.1087      0.143      7.732      0.000       0.821       1.396\n",
       "SMB           -0.2398      0.232     -1.035      0.305      -0.704       0.224\n",
       "HML            0.0951      0.175      0.543      0.589      -0.256       0.446\n",
       "MOM            0.2006      0.200      1.004      0.320      -0.200       0.601\n",
       "==============================================================================\n",
       "Omnibus:                        4.605   Durbin-Watson:                   2.366\n",
       "Prob(Omnibus):                  0.100   Jarque-Bera (JB):                3.652\n",
       "Skew:                           0.559   Prob(JB):                        0.161\n",
       "Kurtosis:                       3.458   Cond. No.                         42.9\n",
       "==============================================================================\n",
       "\n",
       "Notes:\n",
       "[1] Standard Errors assume that the covariance matrix of the errors is correctly specified.\n",
       "\"\"\""
      ]
     },
     "execution_count": 34,
     "metadata": {},
     "output_type": "execute_result"
    }
   ],
   "source": [
    "X = d_c4[['Mkt-RF', 'SMB', 'HML', 'MOM']] \n",
    "y = d_c4[ 'GOOG-RF' ] \n",
    "\n",
    "X1 = sm.add_constant(X) \n",
    "\n",
    "#constant \n",
    "model = sm.OLS(y, X1) \n",
    " \n",
    "results = model.fit()\n",
    "results.summary()"
   ]
  },
  {
   "cell_type": "code",
   "execution_count": 36,
   "id": "77f956ba",
   "metadata": {},
   "outputs": [
    {
     "name": "stdout",
     "output_type": "stream",
     "text": [
      "1.108660493405422 -0.23979846232160068 0.09513410562117565 0.2005955999020297\n"
     ]
    }
   ],
   "source": [
    "intercept, c4_beta_m, c4_beta_s, c4_beta_v, c4_beta_mom = results.params \n",
    "print(c4_beta_m, c4_beta_s, c4_beta_v, c4_beta_mom) "
   ]
  },
  {
   "cell_type": "code",
   "execution_count": 37,
   "id": "b50ebbf9",
   "metadata": {},
   "outputs": [
    {
     "name": "stdout",
     "output_type": "stream",
     "text": [
      "0.0008466666666666671 0.011993333333333337 -0.00039166666666666587 -0.003793333333333331 0.0018750000000000001\n"
     ]
    }
   ],
   "source": [
    "c4_risk_free = d_c4['RF'].mean()\n",
    "c4_market_premium = d_c4['Mkt-RF'].mean()\n",
    "c4_size_premium = d_c4['SMB'].mean()\n",
    "c4_value_premium = d_c4['HML'].mean()\n",
    "c4_momentum_premium = d_c4['MOM'].mean()\n",
    "print (c4_risk_free, c4_market_premium, c4_size_premium, c4_value_premium, c4_momentum_premium)"
   ]
  },
  {
   "cell_type": "code",
   "execution_count": 38,
   "id": "d78e5812",
   "metadata": {},
   "outputs": [
    {
     "data": {
      "text/plain": [
       "0.1710283674937397"
      ]
     },
     "execution_count": 38,
     "metadata": {},
     "output_type": "execute_result"
    }
   ],
   "source": [
    "r_c4_exp_return = c4_risk_free + c4_beta_m*c4_market_premium + c4_beta_s*c4_size_premium + c4_beta_v * c4_value_premium + c4_beta_mom*c4_momentum_premium\n",
    "#yearly return \n",
    "r_c4_exp_return = r_c4_exp_return * 12\n",
    "r_c4_exp_return "
   ]
  },
  {
   "cell_type": "markdown",
   "id": "f3a1d819",
   "metadata": {},
   "source": [
    "## Expected Return Compaired "
   ]
  },
  {
   "cell_type": "markdown",
   "id": "3b6a4323",
   "metadata": {},
   "source": [
    "Comparing ff3, ff5 and c4 model"
   ]
  },
  {
   "cell_type": "code",
   "execution_count": 39,
   "id": "a72d22e2",
   "metadata": {},
   "outputs": [
    {
     "data": {
      "text/html": [
       "<div>\n",
       "<style scoped>\n",
       "    .dataframe tbody tr th:only-of-type {\n",
       "        vertical-align: middle;\n",
       "    }\n",
       "\n",
       "    .dataframe tbody tr th {\n",
       "        vertical-align: top;\n",
       "    }\n",
       "\n",
       "    .dataframe thead th {\n",
       "        text-align: right;\n",
       "    }\n",
       "</style>\n",
       "<table border=\"1\" class=\"dataframe\">\n",
       "  <thead>\n",
       "    <tr style=\"text-align: right;\">\n",
       "      <th></th>\n",
       "      <th>Three Factor Model</th>\n",
       "      <th>Five Factor Model</th>\n",
       "      <th>Carhart Four Factor</th>\n",
       "    </tr>\n",
       "  </thead>\n",
       "  <tbody>\n",
       "    <tr>\n",
       "      <th>Expected Return</th>\n",
       "      <td>0.163069</td>\n",
       "      <td>0.133534</td>\n",
       "      <td>0.171028</td>\n",
       "    </tr>\n",
       "  </tbody>\n",
       "</table>\n",
       "</div>"
      ],
      "text/plain": [
       "                 Three Factor Model  Five Factor Model  Carhart Four Factor\n",
       "Expected Return            0.163069           0.133534             0.171028"
      ]
     },
     "execution_count": 39,
     "metadata": {},
     "output_type": "execute_result"
    }
   ],
   "source": [
    "pd.DataFrame(np.array([[r_ff3_exp_return, r_ff5_exp_return, r_c4_exp_return]]), \n",
    "             columns=['Three Factor Model', 'Five Factor Model', 'Carhart Four Factor'], \n",
    "             index=['Expected Return'])"
   ]
  },
  {
   "cell_type": "code",
   "execution_count": null,
   "id": "9fc898af",
   "metadata": {},
   "outputs": [],
   "source": []
  },
  {
   "cell_type": "code",
   "execution_count": null,
   "id": "871433ac",
   "metadata": {},
   "outputs": [],
   "source": []
  }
 ],
 "metadata": {
  "kernelspec": {
   "display_name": "Python 3 (ipykernel)",
   "language": "python",
   "name": "python3"
  },
  "language_info": {
   "codemirror_mode": {
    "name": "ipython",
    "version": 3
   },
   "file_extension": ".py",
   "mimetype": "text/x-python",
   "name": "python",
   "nbconvert_exporter": "python",
   "pygments_lexer": "ipython3",
   "version": "3.9.12"
  }
 },
 "nbformat": 4,
 "nbformat_minor": 5
}
